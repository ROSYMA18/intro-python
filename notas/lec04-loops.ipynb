{
 "cells": [
  {
   "cell_type": "markdown",
   "metadata": {
    "slideshow": {
     "slide_type": "slide"
    }
   },
   "source": [
    "<img src=\"../files/misc/logo.gif\" width=300/>\n",
    "<img src=\"../files/misc/itam.JPG\" width=300/>\n",
    "<h1 style=\"color:#872325\">Cíclos</h1>"
   ]
  },
  {
   "cell_type": "markdown",
   "metadata": {},
   "source": [
    "Los cíclos o *loops* son comunmente usadas cuando tenemos un bloque de código el cuál deseamos repetir un número finito de veces.\n",
    "\n",
    "Supongamos queremos calcular el área ($A = \\pi r^2$) de un número $n$ de círculos. Dada una lista de radios `radios = [1, 3, 5, 2, 1, 10]` y considerando `pi = 3.14159265`. ¿De qué manera podríamos calcular el área de cada uno de los círculos?\n",
    "\n",
    "Una primera manera sería considerar cada elemento dentro de \"radios\" e imprimir el resultado\n",
    "```python\n",
    "radios = [1, 3, 5, 2, 1, 10]\n",
    "pi = 3.14159265\n",
    "print(pi * radios[0] ** 2)\n",
    "print(pi * radios[1] ** 2)\n",
    "print(pi * radios[2] ** 2)\n",
    "print(pi * radios[3] ** 2)\n",
    "print(pi * radios[4] ** 2)\n",
    "print(pi * radios[5] ** 2)\n",
    "```"
   ]
  },
  {
   "cell_type": "markdown",
   "metadata": {},
   "source": [
    "La desventaja de hacerlo de esta manera es tener que escribir cada uno de los índices y repetir `print` para cada uno de los elementos. Consideremos ahora que tenemos una nueva lista `radios` dada.\n",
    "````python\n",
    "radios = [69, 24, 61, 27, 93, 67, 16, 66, 79, 3, 84, 4, 2, 82, 17, 88, 1, 74, 65, 4, 82, 3, 21, 12, 62, 9, 96, 68, 63, 88]\n",
    "```\n",
    "\n",
    "Si seguimos la metodología planteada anteriormente, calcular cada uno de los radios sería una tarea tediosa y propensa a errores (si copiamos y pegamos cada `print(pi * radios[i])` existe la posibilidad de no modificar correctamente algunos de los índices).\n",
    "\n",
    "**Practical Advices**  \n",
    "Cuando en nuestro código estemos repitiendo el mismo bloque de código con minuciosas diferencias, es muy probable que necesitemos un *loop*. Siempre sigue el pricipio **DRY** (Don't repeat yourself)"
   ]
  },
  {
   "cell_type": "markdown",
   "metadata": {
    "slideshow": {
     "slide_type": "slide"
    }
   },
   "source": [
    "## `For` loops\n",
    "Usamos un `for` loop cuando conocemos de manera exacta el número de veces que deseamos correr el bloque de texto. El ejemplo anterior es un caso para usar un *for loop*.\n",
    "\n",
    "La sintaxis para un *for loop* en python es la siguiente\n",
    "\n",
    "```python\n",
    "for varval in iterable:\n",
    "    ...\n",
    "```\n",
    "\n",
    "* `iterable` es un iterable. A grandes rasgos, un iterable es todo aquello que contenga un índice (una una lista, un diccionario, un string)\n",
    "* `varval` es una variable que toma como valor cada elemento dentro de `iterable`\n",
    "* Todo bloque de código con sangría (4 espacios o tab) despues del `for` se repite por cada `varval` dentro de `iterable`"
   ]
  },
  {
   "cell_type": "code",
   "execution_count": null,
   "metadata": {
    "slideshow": {
     "slide_type": "slide"
    }
   },
   "outputs": [],
   "source": [
    "lista = [\"a\", \"b\", \"c\"]\n",
    "for x in lista:\n",
    "    print(x)"
   ]
  },
  {
   "cell_type": "code",
   "execution_count": null,
   "metadata": {
    "slideshow": {
     "slide_type": "slide"
    }
   },
   "outputs": [],
   "source": [
    "# Cada \n",
    "lista = [\"a\", \"b\", \"c\"]\n",
    "for elemento in lista:\n",
    "    print(elemento)\n",
    "    print(\"...step...\")"
   ]
  },
  {
   "cell_type": "code",
   "execution_count": null,
   "metadata": {
    "scrolled": true,
    "slideshow": {
     "slide_type": "slide"
    }
   },
   "outputs": [],
   "source": [
    "# Líneas de código sin sangría se consideran fuera del loop. \n",
    "# Solo corren una vez de haber iterado cada elemento del iterable\n",
    "lista = [\"a\", \"b\", \"c\"]\n",
    "for elemento in lista:\n",
    "    print(elemento)\n",
    "    print(\"...step...\")\n",
    "print(\"...end...\")"
   ]
  },
  {
   "cell_type": "markdown",
   "metadata": {},
   "source": [
    "Considerando el ejemplo anterior, \n",
    "```python\n",
    "radios = [1, 3, 5, 2, 1, 10]\n",
    "pi = 3.14159265\n",
    "print(pi * radios[0] ** 2)\n",
    "print(pi * radios[1] ** 2)\n",
    "print(pi * radios[3] ** 2)\n",
    "print(pi * radios[3] ** 2)\n",
    "print(pi * radios[4] ** 2)\n",
    "print(pi * radios[5] ** 2)\n",
    "```\n",
    "\n",
    "Podemos reescribir el código con un *for loop* de la siguiente manera\n",
    "```python\n",
    "radios = [1, 3, 5, 2, 1, 10]\n",
    "pi = 3.14159265\n",
    "for radio in radios:\n",
    "    print(pi * radio ** 2)\n",
    "```"
   ]
  },
  {
   "cell_type": "code",
   "execution_count": null,
   "metadata": {},
   "outputs": [],
   "source": [
    "# ¿Qué resultado arrojaría correr el siguiente código?\n",
    "word = \"Beseechingly\"\n",
    "for letter in word:\n",
    "    print(letter)"
   ]
  },
  {
   "cell_type": "markdown",
   "metadata": {},
   "source": [
    "**Rangos**  \n",
    "La manera de crear un rango de números dentro de python es mediante la función `range`, la cuál puede ser usado de tres maneras\n",
    "* `range(a)` crea un rango de valores de `0` hsta `a-1`\n",
    "* `range(a, b)` crea un rango de valores de `a` hasta `b-1`\n",
    "* `range(a, b, s)` crea un rango de valores de `a` hasta `b-1` dando saltos `s`"
   ]
  },
  {
   "cell_type": "code",
   "execution_count": null,
   "metadata": {},
   "outputs": [],
   "source": [
    "help(range)"
   ]
  },
  {
   "cell_type": "code",
   "execution_count": null,
   "metadata": {},
   "outputs": [],
   "source": [
    "for n in range(5):\n",
    "    print(n)"
   ]
  },
  {
   "cell_type": "code",
   "execution_count": null,
   "metadata": {},
   "outputs": [],
   "source": [
    "list(x)[-1]"
   ]
  },
  {
   "cell_type": "code",
   "execution_count": null,
   "metadata": {},
   "outputs": [],
   "source": [
    "for n in range(5, 11):\n",
    "    print(n)"
   ]
  },
  {
   "cell_type": "code",
   "execution_count": null,
   "metadata": {},
   "outputs": [],
   "source": [
    "for n in range(4, 12, 2):\n",
    "    print(n)"
   ]
  },
  {
   "cell_type": "markdown",
   "metadata": {
    "slideshow": {
     "slide_type": "slide"
    }
   },
   "source": [
    "## `while` loops\n",
    "A diferencia de un `for` loop, en un `while` loop no necesariamente conocemos el número de veces que se repetirá el ciclo. La sintáxis de un `while` loop es la siguiente.\n",
    "\n",
    "```python\n",
    "while condition:\n",
    "    ...\n",
    "```\n",
    "\n",
    "* `condition` es un booleano el cual es evaluado al princpio de cada ciclo. Si `condition == True`, el bloque de código en sangría es evaluado; de otra manera el ciclo se rompe.\n",
    "\n",
    "Un while loop repite el cíclo siempre y cuando `condition` sea `True`"
   ]
  },
  {
   "cell_type": "code",
   "execution_count": null,
   "metadata": {
    "slideshow": {
     "slide_type": "fragment"
    }
   },
   "outputs": [],
   "source": [
    "x = 1\n",
    "while x <= 10:\n",
    "    print(x, end=\" \")\n",
    "    x = x + 1"
   ]
  },
  {
   "cell_type": "markdown",
   "metadata": {},
   "source": [
    "**El `break` keyword**  \n",
    "En ocasiones es deseable romper el cíclo antes de empezar la siguiente iteración. En estos casos podemos ocupar `break` para terminar el loop con anticipación."
   ]
  },
  {
   "cell_type": "code",
   "execution_count": null,
   "metadata": {
    "slideshow": {
     "slide_type": "fragment"
    }
   },
   "outputs": [],
   "source": [
    "comidas = []\n",
    "print(\"Ingresa comidas que te gusten. Escribe 'fin' para terminar el programa\")\n",
    "while True: # La condición siempre es, explicitamente, verdadera\n",
    "    comida = input(\"Comida: \")\n",
    "    if comida != \"fin\":\n",
    "        comidas.append(comida)\n",
    "    else:\n",
    "        print(\"Saliendo del programa...\")\n",
    "        break"
   ]
  },
  {
   "cell_type": "code",
   "execution_count": null,
   "metadata": {},
   "outputs": [],
   "source": [
    "comidas"
   ]
  },
  {
   "cell_type": "markdown",
   "metadata": {
    "slideshow": {
     "slide_type": "slide"
    }
   },
   "source": [
    "## Agrupando elementos con `zip`\n",
    "Algunas veces es necesario agrupar dos listas entrada por entrada. Para solucionar este problema en Python podemos usar la función `zip`.\n",
    "\n",
    "`zip` regresa un generador parejas de *tuples* entrada por entrada."
   ]
  },
  {
   "cell_type": "code",
   "execution_count": null,
   "metadata": {},
   "outputs": [],
   "source": [
    "help(zip)"
   ]
  },
  {
   "cell_type": "code",
   "execution_count": null,
   "metadata": {},
   "outputs": [],
   "source": [
    "edades = [1,2,3]\n",
    "nombres = ['Bruno', 'Andrea', 'Karina', 'Carlos']\n",
    "trabajo  = ['A','B', 'C']\n",
    "\n",
    "print(list(zip(edades, nombres, trabajo)))\n"
   ]
  },
  {
   "cell_type": "code",
   "execution_count": null,
   "metadata": {
    "slideshow": {
     "slide_type": "fragment"
    }
   },
   "outputs": [],
   "source": [
    "tickers = [\"AAPL\", \"AMZN\", \"FB\", \"GOOG\"]\n",
    "companies = [\"Apple\", \"Amazon\", \"Facebook\", \"Alphabet\"]\n",
    "comp_tick = {} # diccionario para guardar valores\n",
    "for ticker, company in zip(tickers, companies):\n",
    "    comp_tick[company] = ticker\n",
    "    \n",
    "print(comp_tick)"
   ]
  },
  {
   "cell_type": "markdown",
   "metadata": {},
   "source": [
    "Cree un diccionario que contenga el conteo de cada palabra del siguiente texto\n",
    "```python\n",
    "texto = '''\n",
    "Tres tristes tigres tragaban trigo en un trigal en un trigal tragaban trigo\n",
    "tres tristes tigres estos Tigres tragaban mucho trigo en un trigal\n",
    "'''\n",
    "```"
   ]
  },
  {
   "cell_type": "code",
   "execution_count": null,
   "metadata": {},
   "outputs": [],
   "source": [
    "texto = '''\n",
    "Tres tristes tigres tragaban trigo en un trigal en un trigal tragaban trigo\n",
    "tres tristes tigres estos Tigres tragaban mucho trigo en un trigal\n",
    "'''\n",
    "\n",
    "texto"
   ]
  },
  {
   "cell_type": "code",
   "execution_count": null,
   "metadata": {},
   "outputs": [],
   "source": [
    "texto = texto.lower()\n",
    "texto = texto.replace('\\n', ' ')\n",
    "texto = texto.strip()\n",
    "\n",
    "lista_texto = texto.split(' ')\n",
    "\n",
    "dicc = {}\n",
    "\n",
    "for word in lista_texto:\n",
    "    if word in dicc:\n",
    "        dicc[word] = dicc[word] + 1\n",
    "    else: \n",
    "        dicc[word] = 1\n",
    "\n",
    "dicc"
   ]
  },
  {
   "cell_type": "markdown",
   "metadata": {
    "slideshow": {
     "slide_type": "slide"
    }
   },
   "source": [
    "<h2 style=\"color:#d62728\"> Ejercicio </h2>\n",
    "\n",
    "1. ¿Qué sucede al correr el siguiente código? Explica.\n",
    "```python\n",
    "    for x in 2:\n",
    "        print(x)\n",
    "```\n",
    "1. Considerando la lista `radios` de 30 elementos definida arriba, escribe un programa que cálcule el área para cada uno de los círculos dentro de la lista e imprima, para cada área calculada, `\"El área de un circulo con radio <radio> es <area>\"`; donde `radio` es un elemento dentro de la lista `radios` y `area` es el área de un círculo con radio `radio`\n",
    "1. Escribe un programa que cree el siguiente patrón:\n",
    "```\n",
    "1 \n",
    "1 2 \n",
    "1 2 3 \n",
    "1 2 3 4 \n",
    "1 2 3 4 5 \n",
    "```\n",
    "\n",
    "1. Escribe un programa para adivinar un número:  \n",
    "Considerando un número objetivo `target_num`, el programa le deberá pedir al usuario ingresar un número `input_num`. Si `input_num` > `target_num`, el programa deberá informarle al usuario que su número está por encima del número objetivo; de otra manera, si `input_num` < `target_num`, el programa deberá informarle al usuario que su número se encuentra por debajo del número objetivo. El programa se termina una vez que el usuario adivine el número objetivo, i.e., una vez que `input_num == target_num`.\n",
    "\n",
    "1. Considerando las listas `capitales` y `estados`, escribe un programa que escriba `\"la capital de <estado> es <capital>\"`; donde `<estado>` y `<capital>` representa cada elemento de las listas mencionadas.\n",
    "\n",
    "```\n",
    "capitales = ['Aguascalientes', 'Mexicali', 'La Paz', 'Campeche', 'Saltillo', 'Colima',\n",
    "             'Tuxtla Gutiérrez', 'Chihuahua', 'Ciudad de México', 'Durango', 'Guanajuato',\n",
    "             'Chilpancingo', 'Pachuca', 'Guadalajara', 'Toluca', 'Morelia', 'Cuernavaca', \n",
    "             'Tepic', 'Monterrey', 'Oaxaca', 'Puebla', 'Querétaro', 'Chetumal', 'San Luis Potosí',\n",
    "             'Culiacán', 'Hermosillo', 'Villahermosa', 'Ciudad Victoria', 'Tlaxcala', 'Xalapa',\n",
    "             'Mérida', 'Zacatecas']\n",
    "estados = ['Aguascalientes', 'Baja California', 'Baja California Sur', 'Campeche', 'Coahuila',\n",
    "           'Colima', 'Chiapas', 'Chihuahua', 'Distrito Federal', 'Durango', 'Guanajuato',\n",
    "           'Guerrero', 'Hidalgo', 'Jalisco', 'México', 'Michoacán', 'Morelos', 'Nayarit',\n",
    "           'Nuevo León', 'Oaxaca', 'Puebla', 'Querétaro', 'Quintana Roo', 'San Luis Potosí',\n",
    "           'Sinaloa', 'Sonora', 'Tabasco', 'Tamaulipas', 'Tlaxcala', 'Veracruz', 'Yucatán', 'Zacatecas']\n",
    "```\n",
    "\n",
    "5. Escribe un programa que imprima la siguiente tabla de Multiplicación de 10x10.\n",
    "\n",
    "```\n",
    "01|02 03 04 05 06 07 08 09 10 \n",
    "-----------------------------\n",
    "02|04 06 08 10 12 14 16 18 20 \n",
    "03|06 09 12 15 18 21 24 27 30 \n",
    "04|08 12 16 20 24 28 32 36 40 \n",
    "05|10 15 20 25 30 35 40 45 50 \n",
    "06|12 18 24 30 36 42 48 54 60 \n",
    "07|14 21 28 35 42 49 56 63 70 \n",
    "08|16 24 32 40 48 56 64 72 80 \n",
    "09|18 27 36 45 54 63 72 81 90 \n",
    "10|20 30 40 50 60 70 80 90 100\n",
    "```"
   ]
  },
  {
   "cell_type": "code",
   "execution_count": null,
   "metadata": {},
   "outputs": [],
   "source": [
    "dic = {'david':[1,2], 'ricardo':[3,4]}\n",
    "\n",
    "for i in dic.values():\n",
    "    print(i)"
   ]
  },
  {
   "cell_type": "code",
   "execution_count": null,
   "metadata": {},
   "outputs": [],
   "source": []
  },
  {
   "cell_type": "code",
   "execution_count": null,
   "metadata": {},
   "outputs": [],
   "source": []
  },
  {
   "cell_type": "code",
   "execution_count": null,
   "metadata": {},
   "outputs": [],
   "source": []
  },
  {
   "cell_type": "code",
   "execution_count": null,
   "metadata": {},
   "outputs": [],
   "source": []
  }
 ],
 "metadata": {
  "celltoolbar": "Slideshow",
  "kernelspec": {
   "display_name": "Python 3",
   "language": "python",
   "name": "python3"
  },
  "language_info": {
   "codemirror_mode": {
    "name": "ipython",
    "version": 3
   },
   "file_extension": ".py",
   "mimetype": "text/x-python",
   "name": "python",
   "nbconvert_exporter": "python",
   "pygments_lexer": "ipython3",
   "version": "3.7.3"
  }
 },
 "nbformat": 4,
 "nbformat_minor": 2
}

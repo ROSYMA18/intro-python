{
 "cells": [
  {
   "cell_type": "markdown",
   "metadata": {
    "local_metadata": {},
    "remote_metadata": {
     "slideshow": {
      "slide_type": "slide"
     }
    }
   },
   "source": [
    "<img src=\"../files/misc/logo.gif\" width=300/>\n",
    "<img src=\"../files/misc/itam.JPG\" width=300/>\n",
    "<h1 style=\"color:#872325\">File I/O y Módulos de la Librería Estándar</h1>"
   ]
  },
  {
   "cell_type": "markdown",
   "metadata": {},
   "source": [
    "En esta sección veremos como trabajar y manipular archivos desde python. Python viene incluido con una serie de librerías y funciones predefinidas que nos permiten trabajar con archivos. De esta manera, al correr un proceso, podemos guardar su resultado a un archivo o, en su defecto, leer el contenido del archivo a fin de trabajar con sus valores."
   ]
  },
  {
   "cell_type": "markdown",
   "metadata": {},
   "source": [
    "### `open`\n",
    "\n",
    "La función `open` nos permite abrir un archivo encontrado desde nuestra computadora. Con un archivo abierto, podemos escribir, leer, o añadir. \n",
    "\n",
    "**Es importante tener en cuenta en donde estamos trabajando y en donde se encuentra el archivo que queremos leer.**"
   ]
  },
  {
   "cell_type": "markdown",
   "metadata": {},
   "source": [
    "Actualmente me encuentro en el directorio"
   ]
  },
  {
   "cell_type": "code",
   "execution_count": null,
   "metadata": {
    "local_metadata": {},
    "remote_metadata": {
     "slideshow": {
      "slide_type": "fragment"
     }
    }
   },
   "outputs": [],
   "source": [
    "!pwd"
   ]
  },
  {
   "cell_type": "code",
   "execution_count": null,
   "metadata": {},
   "outputs": [],
   "source": [
    "!ls ../files/lec06"
   ]
  },
  {
   "cell_type": "code",
   "execution_count": null,
   "metadata": {},
   "outputs": [],
   "source": [
    "!ls /Users/gerardoduran/Documents/nabla/bootcamp/intro-python/files/lec06/"
   ]
  },
  {
   "cell_type": "markdown",
   "metadata": {},
   "source": [
    "Sabiendo la ruta al archivo a leer, existen dos maneras de acceder directamente al archivo sin necesidad de modificar el directorio en donde estamos trabajando.\n",
    "\n",
    "En este ejemplo, el archivo a leer se encuentra dentro de  \n",
    "`/Users/gerardoduran/Documents/nabla/bootcamp/intro-python/files/lec06/`"
   ]
  },
  {
   "cell_type": "markdown",
   "metadata": {},
   "source": [
    "**Referencia Absoluta**  \n",
    "La primera manera es llegar al archivo desedo considerando toda la ruta hasta el archivo a leer  \n",
    "`/Users/gerardoduran/Documents/nabla/bootcamp/intro-python/files/lec06/`"
   ]
  },
  {
   "cell_type": "markdown",
   "metadata": {},
   "source": [
    "**Referencia Relativa**  \n",
    "La segunda manera es especificando, relativo a nuestro directorio, hacía donde nos vamos a mover. Abajo se muestra el diagrama del proyecto.\n",
    "```\n",
    ".\n",
    "├── README.md\n",
    "├── files\n",
    "│   ├── lec01\n",
    "│   │   ├── hello.py\n",
    "│   │   ├── hw_script.png\n",
    "│   │   └── hw_terminal.png\n",
    "│   ├── lec02\n",
    "│   │   ├── prg01.png\n",
    "│   │   └── prg02.png\n",
    "│   ├── lec06\n",
    "│   │   ├── mun_cdmx.csv\n",
    "│   │   └── texto.txt\n",
    "│   └── misc\n",
    "│       └── logo.gif\n",
    "└── notas\n",
    "    ├── lec01.ipynb\n",
    "    ├── lec02.ipynb\n",
    "    ├── lec03.ipynb\n",
    "    ├── lec04.ipynb\n",
    "    ├── lec05.ipynb\n",
    "    ├── lec06.ipynb\n",
    "    └── lec07.ipynb\n",
    "```\n",
    "\n",
    "\n",
    " Nos encontramos actualmente dentro la carpeta `notas`. Si quisieramos llegar a la carpeta `lec06` dentro de `files`, tendríamos que *retroceder* una carpeta para luego acceder a `files`.\n",
    " \n",
    " Retrocedemos una carpeta de manera *relativa* por medio de `..`. En otras palabras, si quisieramos acceder al archivo `texto.txt` de manera relativa, la ruta sería  \n",
    "`../files/lec06/texto.txt`"
   ]
  },
  {
   "cell_type": "markdown",
   "metadata": {},
   "source": [
    "### ...de regreso a `open` (leyendo archivos)\n",
    "\n",
    "Abrimos y leemos un archivo en Python con la función `open` cuyo primer argumento es la ruta del archivo a a acceder.\n",
    "\n",
    "```python\n",
    "open(file, mode='r', buffering=-1, encoding=None, errors=None, newline=None, closefd=True, opener=None)\n",
    "```"
   ]
  },
  {
   "cell_type": "code",
   "execution_count": null,
   "metadata": {},
   "outputs": [],
   "source": [
    "path = \"../files/lec06/texto.txt\"\n",
    "f = open(path)\n",
    "texto = f.read()\n",
    "f.close()\n",
    "print(texto)"
   ]
  },
  {
   "cell_type": "code",
   "execution_count": null,
   "metadata": {},
   "outputs": [],
   "source": [
    "path = \"../files/lec06/texto.txt\"\n",
    "with open(path, mode=\"r\") as f:\n",
    "    texto = f.read()\n",
    "print(texto)"
   ]
  },
  {
   "cell_type": "markdown",
   "metadata": {},
   "source": [
    "El resultado de abrir un archivo es un `file object` sobre el cual podemos manipular antes de visualizar el contenido del archivo. Dependiendo del *modo* seleccionado para trabajar con el archivo, `f` toma diferentes propiedades. Por *default* el modo es *r* (read), sin embargo, existen diferentes modos de trabajo. Enunciaremos los más comunes abajo.\n",
    "\n",
    "* `r`: leer (default)\n",
    "* `w`: escribir\n",
    "* `a`: escribir. Agrega información al final del archivo si este ya existe\n",
    "* `b`: binario. Para trabajar con archivos binarios, e.g., excel"
   ]
  },
  {
   "cell_type": "code",
   "execution_count": null,
   "metadata": {},
   "outputs": [],
   "source": [
    "# Con el método f.read() leemos los contenidos del archivo\n",
    "f.read()"
   ]
  },
  {
   "cell_type": "markdown",
   "metadata": {},
   "source": [
    "Para evitar posibles conflictos en el archivo, es importante cerrarlo una vez que se haya terminado de utilizar"
   ]
  },
  {
   "cell_type": "code",
   "execution_count": null,
   "metadata": {},
   "outputs": [],
   "source": [
    "f.close()"
   ]
  },
  {
   "cell_type": "code",
   "execution_count": null,
   "metadata": {},
   "outputs": [],
   "source": [
    "## Código completo para abrir un archivo y ver su contenido\n",
    "route = \"../files/lec06/texto.txt\"\n",
    "file = open(route) # Abrimos el archivo\n",
    "contenido = file.read() # Guardamos información en una variable\n",
    "print(contenido)\n",
    "file.close() # cerramos el archivo"
   ]
  },
  {
   "cell_type": "markdown",
   "metadata": {},
   "source": [
    "Una vez abierto un archivo es imprescindible cerrarlo. Para tener un poco más de legibilidad y no olvidar cerrar el archivo, se puede hacer uso del *keyword* `with` que abre un archivo dentro de un bloque de texto para posteiormente cerrarlo.\n",
    "\n",
    "El keyword `with` toma un objeto (en nuestro caso un lector de archivos) que incluya dos métodos: `.open` y `.close`. Python se encarga de abrir y cerrar el archivo.\n",
    "\n",
    "\n",
    "```python\n",
    "with open(filename, mode) as f:\n",
    "    <manipulación del archivo>\n",
    "```"
   ]
  },
  {
   "cell_type": "code",
   "execution_count": null,
   "metadata": {},
   "outputs": [],
   "source": [
    "route = \"../files/lec06/texto.txt\"\n",
    "with open(route, \"r\") as file:\n",
    "    print(file.read())"
   ]
  },
  {
   "cell_type": "markdown",
   "metadata": {},
   "source": [
    "Si tratamos de volver a leer el archivo, el siguiente error nos aparece:\n",
    "```python\n",
    ">>> f.read()\n",
    "ValueError                                Traceback (most recent call last)\n",
    "<ipython-input-24-873bb1270d85> in <module>()\n",
    "      1 # Si tratamos y\n",
    "----> 2 f.read()\n",
    "\n",
    "ValueError: I/O operation on closed file.\n",
    "```\n",
    "El cuál anuncia que el archivo ha sido cerrado"
   ]
  },
  {
   "cell_type": "markdown",
   "metadata": {},
   "source": [
    "### Escribiendo Archivos\n",
    "El modo `\"w\"` dentro de `open` nos permite crear nuevos archivos. La sintáxis sería la siguiente\n",
    "```python\n",
    "open(filename, \"w\")\n",
    "```"
   ]
  },
  {
   "cell_type": "code",
   "execution_count": null,
   "metadata": {},
   "outputs": [],
   "source": [
    "with open('prueba.txt', 'w') as f:\n",
    "    texto = 'Este es un texto\\n'\n",
    "    lista_texto = ('Texto2\\n','Texto3\\n')\n",
    "    f.write(texto)\n",
    "    f.writelines(lista_texto)\n",
    "    \n",
    "with open('prueba.txt', 'r') as f:\n",
    "    contenido = f.read()\n",
    "    print(contenido)"
   ]
  },
  {
   "cell_type": "code",
   "execution_count": null,
   "metadata": {},
   "outputs": [],
   "source": []
  },
  {
   "cell_type": "markdown",
   "metadata": {},
   "source": [
    "## Módulos I/O"
   ]
  },
  {
   "cell_type": "markdown",
   "metadata": {},
   "source": [
    "### JSON\n",
    "\n",
    "JSON (Javascript Object Notation) es un formato de bajo peso para intercambio de información basado en el lenguaje de programación JavaScript. Es parecido, en estructura, a un diccionario.\n",
    "\n",
    "Podemos cargar objectos json desde python con la librería `json`"
   ]
  },
  {
   "cell_type": "code",
   "execution_count": null,
   "metadata": {},
   "outputs": [],
   "source": [
    "import json\n",
    "help(json.load)"
   ]
  },
  {
   "cell_type": "code",
   "execution_count": null,
   "metadata": {},
   "outputs": [],
   "source": [
    "!cat  ../files/lec07/colors.json"
   ]
  },
  {
   "cell_type": "markdown",
   "metadata": {},
   "source": [
    "Para cargar archivos json, es necesario abrir un archivo y usar la función `json.load` aplicado sobre el archivo abierto"
   ]
  },
  {
   "cell_type": "code",
   "execution_count": null,
   "metadata": {},
   "outputs": [],
   "source": [
    "with open(\"../files/lec07/colors.json\") as f:\n",
    "    colors = json.load(f)\n",
    "type(colors)    "
   ]
  },
  {
   "cell_type": "code",
   "execution_count": null,
   "metadata": {},
   "outputs": [],
   "source": [
    "colors[\"colors\"][0]"
   ]
  },
  {
   "cell_type": "code",
   "execution_count": null,
   "metadata": {},
   "outputs": [],
   "source": [
    "with open('../files/lec06/inegi.json') as f:\n",
    "    contenido = json.load(f)\n",
    "print(contenido) #Diccionario\n",
    "print('\\n'*5)\n",
    "print(contenido['Series']) #Lista"
   ]
  },
  {
   "cell_type": "code",
   "execution_count": null,
   "metadata": {},
   "outputs": [],
   "source": [
    "contenido['Series'][0]['OBSERVATIONS'][0]"
   ]
  },
  {
   "cell_type": "markdown",
   "metadata": {
    "slideshow": {
     "slide_type": "slide"
    }
   },
   "source": [
    "## Datetime "
   ]
  },
  {
   "cell_type": "code",
   "execution_count": null,
   "metadata": {
    "slideshow": {
     "slide_type": "fragment"
    }
   },
   "outputs": [],
   "source": [
    "from datetime import datetime"
   ]
  },
  {
   "cell_type": "code",
   "execution_count": null,
   "metadata": {
    "slideshow": {
     "slide_type": "slide"
    }
   },
   "outputs": [],
   "source": [
    "start_date = datetime(1995, 8, 19)\n",
    "print(start_date)"
   ]
  },
  {
   "cell_type": "code",
   "execution_count": null,
   "metadata": {
    "slideshow": {
     "slide_type": "fragment"
    }
   },
   "outputs": [],
   "source": [
    "# Devuelve la fecha de la semana como un entero donde lunes es 0 y domingo 6\n",
    "start_date.weekday()"
   ]
  },
  {
   "cell_type": "markdown",
   "metadata": {
    "slideshow": {
     "slide_type": "slide"
    }
   },
   "source": [
    "Dando formato a las fechas. Documentación en:\n",
    "\n",
    "https://docs.python.org/3/library/datetime.html?highlight=datetime#strftime-and-strptime-behavior"
   ]
  },
  {
   "cell_type": "code",
   "execution_count": null,
   "metadata": {},
   "outputs": [],
   "source": [
    "start_date"
   ]
  },
  {
   "cell_type": "code",
   "execution_count": null,
   "metadata": {
    "slideshow": {
     "slide_type": "fragment"
    }
   },
   "outputs": [],
   "source": [
    "start_date.strftime(\"%m-%d-%y\")"
   ]
  },
  {
   "cell_type": "code",
   "execution_count": null,
   "metadata": {
    "slideshow": {
     "slide_type": "fragment"
    }
   },
   "outputs": [],
   "source": [
    "start_date.strftime(\"%A, %B %d %Y\")"
   ]
  },
  {
   "cell_type": "code",
   "execution_count": null,
   "metadata": {
    "slideshow": {
     "slide_type": "slide"
    }
   },
   "outputs": [],
   "source": [
    "from datetime import timedelta"
   ]
  },
  {
   "cell_type": "code",
   "execution_count": null,
   "metadata": {},
   "outputs": [],
   "source": [
    "start_date + timedelta(days=500)"
   ]
  },
  {
   "cell_type": "code",
   "execution_count": null,
   "metadata": {
    "slideshow": {
     "slide_type": "fragment"
    }
   },
   "outputs": [],
   "source": [
    "duracion = timedelta(days=255)\n",
    "duracion"
   ]
  },
  {
   "cell_type": "code",
   "execution_count": null,
   "metadata": {
    "slideshow": {
     "slide_type": "fragment"
    }
   },
   "outputs": [],
   "source": [
    "maturity = start_date + duracion\n",
    "maturity.strftime(\"%A, %B %d %Y\")"
   ]
  },
  {
   "cell_type": "code",
   "execution_count": null,
   "metadata": {
    "slideshow": {
     "slide_type": "fragment"
    }
   },
   "outputs": [],
   "source": [
    "# De formato a fecha\n",
    "fecha = datetime.strptime(\"2012.12.25\", \"%Y.%m.%d\")\n",
    "print(fecha)"
   ]
  },
  {
   "cell_type": "code",
   "execution_count": null,
   "metadata": {},
   "outputs": [],
   "source": [
    "help(datetime.strptime)"
   ]
  },
  {
   "cell_type": "code",
   "execution_count": null,
   "metadata": {},
   "outputs": [],
   "source": [
    "datetime.strptime(\"12/25/10\", \"%m/%d/%y\")"
   ]
  },
  {
   "cell_type": "markdown",
   "metadata": {
    "slideshow": {
     "slide_type": "slide"
    }
   },
   "source": [
    "<h3 style=\"color:crimson\"> Ejercicio </h3>\n",
    "\n",
    "1. Crea la función `timestep(init_date, n)` tal que, dada una fecha inicial y $n$ días de duración, calcule la fecha hábil final corriendo la fecha un día después al final de $n$ días si  cae en una fecha inhábil o en fin de semana. Para lograr esto, lee el archivo `../files/lec07/holidays.txt`\n",
    "\n",
    "Considera cualquier fecha entre 1/1/10 y 12/25/50.\n",
    "\n",
    "```python\n",
    ">>> timestep(datetime(2009, 12, 31), 1)\n",
    "datetime.datetime(2010, 1, 4, 0, 0)\n",
    "\n",
    ">>> timestep(datetime(2009, 12, 31), 2)\n",
    "datetime.datetime(2010, 1, 4, 0, 0)\n",
    "\n",
    ">>> timestep(datetime(2017, 12, 26), 4)\n",
    "datetime.datetime(2018, 1, 2, 0, 0)\n",
    "\n",
    ">>> timestep(datetime(2018, 2, 19), 2)\n",
    "datetime.datetime(2018, 2, 21, 0, 0)\n",
    "```\n",
    "\n",
    "2. Usando el archivo `6m_rates.csv`, crear el diccionario `tasas` donde las llaves sean las fechas (`datetime.datetime`) y los valores (`float`) las tasas a esa fecha.\n",
    "```python\n",
    ">>>tasas[datetime(2017, 2, 1)]\n",
    "2.58\n",
    ">>>tasas[datetime(2013, 4, 1)]\n",
    "1.9\n",
    "```\n",
    "\n",
    "3. Crear una función `tasa_compuesta` que, para una tasa nominal fija compuesta $n$ veces en un año, calcule el valor del nominal para cada periodo $k = 0,\\ldots, n$. \n",
    "```python\n",
    "def tasa_compuesta(nominal, tasa_nominal, n_periodos, path=\".\"):\n",
    "    pass\n",
    "```\n",
    "La función debe regresar un archivo `.csv` de nombre `cap_n.csv`; donde `n` es el número de veces de capitalización en un año."
   ]
  },
  {
   "cell_type": "markdown",
   "metadata": {
    "local_metadata": {},
    "remote_metadata": {
     "slideshow": {
      "slide_type": "slide"
     }
    }
   },
   "source": [
    "## OS"
   ]
  },
  {
   "cell_type": "code",
   "execution_count": null,
   "metadata": {
    "local_metadata": {},
    "remote_metadata": {
     "slideshow": {
      "slide_type": "fragment"
     }
    }
   },
   "outputs": [],
   "source": [
    "import os"
   ]
  },
  {
   "cell_type": "code",
   "execution_count": null,
   "metadata": {
    "slideshow": {
     "slide_type": "slide"
    }
   },
   "outputs": [],
   "source": [
    "os.listdir(\"../files/\")"
   ]
  },
  {
   "cell_type": "code",
   "execution_count": null,
   "metadata": {
    "slideshow": {
     "slide_type": "fragment"
    }
   },
   "outputs": [],
   "source": [
    "os.path.abspath(\"..\")"
   ]
  },
  {
   "cell_type": "code",
   "execution_count": null,
   "metadata": {
    "slideshow": {
     "slide_type": "fragment"
    }
   },
   "outputs": [],
   "source": [
    "os.mkdir(\"test_folder\")"
   ]
  },
  {
   "cell_type": "code",
   "execution_count": null,
   "metadata": {},
   "outputs": [],
   "source": [
    "os.listdir(\".\")"
   ]
  },
  {
   "cell_type": "code",
   "execution_count": null,
   "metadata": {},
   "outputs": [],
   "source": [
    "os.removedirs(\"test_folder/\")"
   ]
  }
 ],
 "metadata": {
  "celltoolbar": "Slideshow",
  "kernelspec": {
   "display_name": "Python 3",
   "language": "python",
   "name": "python3"
  },
  "language_info": {
   "codemirror_mode": {
    "name": "ipython",
    "version": 3
   },
   "file_extension": ".py",
   "mimetype": "text/x-python",
   "name": "python",
   "nbconvert_exporter": "python",
   "pygments_lexer": "ipython3",
   "version": "3.7.3"
  },
  "nbdime-conflicts": {
   "local_diff": [
    {
     "key": "language_info",
     "op": "add",
     "value": {
      "codemirror_mode": {
       "name": "ipython",
       "version": 3
      },
      "file_extension": ".py",
      "mimetype": "text/x-python",
      "name": "python",
      "nbconvert_exporter": "python",
      "pygments_lexer": "ipython3",
      "version": "3.6.8"
     }
    }
   ],
   "remote_diff": [
    {
     "key": "language_info",
     "op": "add",
     "value": {
      "codemirror_mode": {
       "name": "ipython",
       "version": 3
      },
      "file_extension": ".py",
      "mimetype": "text/x-python",
      "name": "python",
      "nbconvert_exporter": "python",
      "pygments_lexer": "ipython3",
      "version": "3.7.3"
     }
    }
   ]
  }
 },
 "nbformat": 4,
 "nbformat_minor": 2
}

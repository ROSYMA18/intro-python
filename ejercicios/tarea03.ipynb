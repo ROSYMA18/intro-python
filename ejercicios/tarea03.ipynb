{
 "cells": [
  {
   "cell_type": "markdown",
   "metadata": {},
   "source": [
    "<img src=\"../files/misc/logo.gif\" width=300/>\n",
    "<img src=\"../files/misc/itam.JPG\" width=300/>\n",
    "<h1 style=\"color:#872325\">Tarea 03</h1>"
   ]
  },
  {
   "cell_type": "markdown",
   "metadata": {},
   "source": [
    "\n",
    "1. Usando un _list comprehension_ , encuentra la suma de todos los múltiplos de 3 o 5 por debajo de 1000\n",
    "\n",
    "---\n",
    "\n",
    "2. define la función **laxmbda** `conjunto_potencia_unidades` que tome un número `n ` y un número entero `lim`. La función deberá regresar un diccionario con llaves los valores `0` al `n` y valores una lista con los valores únicos de unidades para cada número $\\{k^i\\}_{i=1}^{\\texttt{lim}}$\n",
    "```python\n",
    ">>> conjunto_potencia_unidades(10, 20)\n",
    "{0: [0],\n",
    " 1: [1],\n",
    " 2: [2, 4, 6, 8],\n",
    " 3: [1, 3, 7, 9],\n",
    " 4: [4, 6],\n",
    " 5: [5],\n",
    " 6: [6],\n",
    " 7: [1, 3, 7, 9],\n",
    " 8: [2, 4, 6, 8],\n",
    " 9: [9, 1],\n",
    " 10: [0]}\n",
    "```\n",
    "---\n",
    "3. Usando un list comprehension, define la función `solo_impares` que tome una lista de enteros y regrese la lista con solo los números impares\n",
    "\n",
    "```python\n",
    ">>> solo_impares([1, 5, 2, 8, 9, 10])\n",
    "[1, 5, 9]\n",
    "```\n",
    "----\n",
    "4. Usando un list comphrension, define la función `fizzbuzz` que le pida al usuario un número entero $n$. El programa debe regresar una lista del 1 al $n$ con las siguientes reglas:\n",
    "\n",
    "    * `Fizz` si el número es divisible entre $3$;\n",
    "    * `Buzz` si el número es divisible entre $5$;\n",
    "    * `FizzBuzz` si el número es divisible entre $3$ y $5$;\n",
    "    * El número si no es divisible entre $3$ o $5$.\n",
    "\n",
    "Por ejemplo, si `n=16`, `fizzbuzz(16)` regresa\n",
    "\n",
    "```\n",
    "[1, 2, 'Fizz', 4, 'Buzz', 'Fizz', 7, 8, 'Fizz', 'Buzz', 11, 'Fizz', 13, 14, 'FizzBuzz', 16]\n",
    "```\n",
    "----\n",
    "5. Crea un list comprehension que arroje el siguiente resultado:\n",
    "```\n",
    "[[1, 2, 3, 4, 5, 6, 7, 8, 9, 10],\n",
    " [2, 4, 6, 8, 10, 12, 14, 16, 18, 20],\n",
    " [3, 6, 9, 12, 15, 18, 21, 24, 27, 30],\n",
    " [4, 8, 12, 16, 20, 24, 28, 32, 36, 40],\n",
    " [5, 10, 15, 20, 25, 30, 35, 40, 45, 50],\n",
    " [6, 12, 18, 24, 30, 36, 42, 48, 54, 60],\n",
    " [7, 14, 21, 28, 35, 42, 49, 56, 63, 70],\n",
    " [8, 16, 24, 32, 40, 48, 56, 64, 72, 80],\n",
    " [9, 18, 27, 36, 45, 54, 63, 72, 81, 90],\n",
    " [10, 20, 30, 40, 50, 60, 70, 80, 90, 100]]\n",
    "```\n",
    "----\n",
    "6. Dada la lista `numbers`, crea un diccionario dónde la llave sea la entrada de cada lista y el valor la longitud de cada entrada\n",
    "```python\n",
    "numbers = [\"one\", \"two\", \"three\", \"four\", \"five\", \"six\"]\n",
    "```\n",
    "----\n",
    "7. Dada la lista `nums`, suma a cada entrada un 1 y regresa cada valor como un string\n",
    "```python\n",
    "nums = [\"1\", \"3\", \"5\", \"7\", \"11\", \"13\"]\n",
    "```"
   ]
  }
 ],
 "metadata": {
  "kernelspec": {
   "display_name": "Python 3",
   "language": "python",
   "name": "python3"
  },
  "language_info": {
   "codemirror_mode": {
    "name": "ipython",
    "version": 3
   },
   "file_extension": ".py",
   "mimetype": "text/x-python",
   "name": "python",
   "nbconvert_exporter": "python",
   "pygments_lexer": "ipython3",
   "version": "3.7.3"
  }
 },
 "nbformat": 4,
 "nbformat_minor": 2
}

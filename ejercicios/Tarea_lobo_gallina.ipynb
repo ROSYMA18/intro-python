{
 "cells": [
  {
   "cell_type": "markdown",
   "metadata": {},
   "source": [
    "# El problema de la gallina, el lobo y el maíz (Entrega Abril 1 de 2020)\n",
    "Suponga que se encuentra atrapado en una isla y que con usted se encuentra una gallina, un lobo y un costal de maíz. Para salir de esta isla tiene que cruzar un río y cuenta con una lancha la cual únicamente tiene capacidad para dos tripulantes (usted y algún animal o el maíz). Debe además considerar las siguientes restricciones:\n",
    "\n",
    "* En un mismo lado, la gallina y el maíz no pueden estar sin supervisión (la gallina se come el maíz)\n",
    "\n",
    "* En un mismo lado, el lobo y la gallina no pueden estar sin supervisión (el lobo se come a la gallina)\n",
    "\n",
    "* No es posible tener un escenario en el cual el hombre se encuentre solitario (la gallina se come el maíz y el lobo a la gallina).\n",
    "\n",
    "\n",
    "Necesita sacar de la isla tanto a los animales como al maíz sin violar las restricciones anteriores.\n",
    "\n",
    "## Objetivo\n",
    "\n",
    "* Cree un programa que resuelva el problema anterior utilizando los siguientes métodos de búsqueda:\n",
    "\n",
    "  * Breadth-First Search.\n",
    "  * Depth-First Search.\n",
    " \n",
    "## Sugerencias\n",
    "\n",
    "Le será útil considerar lo siguiente:\n",
    "\n",
    "* Utilizando estructuras de python (listas, diccionarios, conjuntos, etc.) ¿Cómo representaría un posible estado del problema?\n",
    "\n",
    "* Programe una función para validar si un estado cumple con las restricciones del problema.\n",
    "\n",
    "* Programe una función para revisar si un estado ya fue analizado con anterioridad.\n",
    "\n",
    "* Programe una función para generar el conjunto de posibles estados que se pueden generar a partir de un estado inicial.\n",
    "\n",
    "* Programe una función para revisar si un estado es un **estado final**, es decir, el estado que representa la solución al problema.\n",
    "\n",
    "* Programe una función para recuperar la sucesión de estados que lleva a la solución del problema.\n"
   ]
  },
  {
   "cell_type": "code",
   "execution_count": null,
   "metadata": {},
   "outputs": [],
   "source": []
  }
 ],
 "metadata": {
  "kernelspec": {
   "display_name": "Python 3",
   "language": "python",
   "name": "python3"
  },
  "language_info": {
   "codemirror_mode": {
    "name": "ipython",
    "version": 3
   },
   "file_extension": ".py",
   "mimetype": "text/x-python",
   "name": "python",
   "nbconvert_exporter": "python",
   "pygments_lexer": "ipython3",
   "version": "3.7.3"
  }
 },
 "nbformat": 4,
 "nbformat_minor": 4
}

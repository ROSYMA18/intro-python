{
 "cells": [
  {
   "cell_type": "markdown",
   "metadata": {},
   "source": [
    "<img src=\"../files/misc/logo.gif\" width=300/>\n",
    "<img src=\"../files/misc/itam.JPG\" width=300/>\n",
    "<h1 style=\"color:#872325\">Tarea 02</h1>"
   ]
  },
  {
   "cell_type": "markdown",
   "metadata": {},
   "source": [
    "1. Escribe la función `suma_producto` que tome un numpy array con dos dimensiones de shape `(n, n)`, el índice de una fila, el índice de una columna, y calcule la suma de multiplicar cada elemento de la columna seleccionada por cada elemento de la fila seleccionada.\n",
    "\n",
    "Por ejemplo, te tener una matriz\n",
    "```\n",
    "a1 = np.array([[2, 3, 3],\n",
    "               [4, 3, 3],\n",
    "               [5, 3, 1]])\n",
    "```\n",
    "\n",
    "Calcular ```suma_producto(a1, 0, 2)``` consideraría la primera fila (`[2, 3, 3]`), la última columna (`[3, 3, 1]`)  y realizaría la siguiente operación:\n",
    "```\n",
    "2 * 3 + 3 * 3 + 3 * 1 = 18\n",
    "```\n",
    "\n",
    "```python\n",
    ">>> a2 = np.array([2, 3,\n",
    "                   3, 4])\n",
    ">>> suma_producto(a2, 0, 0)\n",
    "13\n",
    "\n",
    "a3 = np.array([[2, 3, 3, 4],\n",
    "               [3, 3, 5, 3],\n",
    "               [1, 2, 2, 3],\n",
    "               [5, 5, 5, 5]])\n",
    ">>> suma_producto(a3, 2, 1)\n",
    "28\n",
    "\n",
    "```"
   ]
  },
  {
   "cell_type": "code",
   "execution_count": null,
   "metadata": {},
   "outputs": [],
   "source": []
  },
  {
   "cell_type": "markdown",
   "metadata": {},
   "source": [
    "2. escribe la función (`suma_pos`) que tome un numpy array y regrese la suma de todos los elementos positivos del array\n",
    "\n",
    "```python\n",
    ">>> a1 = np.array([[ 0,  4,  1],\n",
    "                   [-3, -3,  1],\n",
    "                   [-3,  2, -3]])\n",
    ">>> suma_pos(a1)\n",
    "8\n",
    "```"
   ]
  },
  {
   "cell_type": "code",
   "execution_count": null,
   "metadata": {},
   "outputs": [],
   "source": []
  },
  {
   "cell_type": "markdown",
   "metadata": {},
   "source": [
    "3. Escribe la función `cercano` que tome un numpy array unidimensional, un número base y encuentre el (los) número(s) que más se aproxime (en valor aboluto) al número base\n",
    "\n",
    "```python\n",
    "a1 = np.arrray([-25,  27,   8, -12,  20,   8,  29, -28,   9, -12, -23, -26,  20,-22, -29])\n",
    ">>> cercano(a1, 10)\n",
    "array([9])\n",
    ">>> cercano(a1, -3)\n",
    "array([-12, -12])\n",
    "```"
   ]
  },
  {
   "cell_type": "code",
   "execution_count": null,
   "metadata": {},
   "outputs": [],
   "source": []
  },
  {
   "cell_type": "markdown",
   "metadata": {},
   "source": [
    "4. Define la función `pascal` que cree el triangulo de pascal a $n\\geq 2$ terminos en arreglo de lista de listas. \n",
    "\n",
    "```python\n",
    ">>> pascal(3)\n",
    "[[1],\n",
    " [1, 1],\n",
    " [1, 2, 1]]\n",
    ">>> pascal(12)\n",
    "[[1],\n",
    " [1, 1],\n",
    " [1, 2, 1],\n",
    " [1, 3, 3, 1],\n",
    " [1, 4, 6, 4, 1],\n",
    " [1, 5, 10, 10, 5, 1],\n",
    " [1, 6, 15, 20, 15, 6, 1],\n",
    " [1, 7, 21, 35, 35, 21, 7, 1],\n",
    " [1, 8, 28, 56, 70, 56, 28, 8, 1],\n",
    " [1, 9, 36, 84, 126, 126, 84, 36, 9, 1],\n",
    " [1, 10, 45, 120, 210, 252, 210, 120, 45, 10, 1],\n",
    " [1, 11, 55, 165, 330, 462, 462, 330, 165, 55, 11, 1]]\n",
    "```"
   ]
  },
  {
   "cell_type": "code",
   "execution_count": null,
   "metadata": {},
   "outputs": [],
   "source": []
  },
  {
   "cell_type": "markdown",
   "metadata": {},
   "source": [
    "5. Escribe un programa `filter_sum(arr, f)` que cree un _filtro_ de suma para un numpy array de dos dimensiones con `arr.shape[0] == arr.shape[1]`. Un filtro de tamaño `f` captura los elementos de `arr` con una _ventana_ de tamaño `(f, f)` y suma los valores para arrojar un nuevo resultado dentro de una matriz final.\n",
    "\n",
    "Por ejemplo, dado el array\n",
    "```\n",
    "[[ 6,  7, 19, 19,  7],\n",
    "[ 3,  8, 19,  8,  5],\n",
    "[19,  9,  2, 11, 15],\n",
    "[ 5, 15,  6, 17, 17],\n",
    "[17,  2,  1, 17, 12]]\n",
    "```\n",
    "\n",
    "Las _ventanas_ de la matriz, con `f=3`, serían\n",
    "```\n",
    "[[ 6  7 19]\n",
    " [ 3  8 19]\n",
    " [19  9  2]]\n",
    "\n",
    "[[ 7 19 19]\n",
    " [ 8 19  8]\n",
    " [ 9  2 11]]\n",
    " \n",
    " ...\n",
    " \n",
    " [[ 2 11 15]\n",
    " [ 6 17 17]\n",
    " [ 1 17 12]]\n",
    "```\n",
    "\n",
    "Con valores `92, 105, ..., 98`\n",
    "\n",
    "y la matriz resultante sería\n",
    "\n",
    "```\n",
    "[[ 92., 102., 105.],\n",
    "[ 86.,  95., 100.],\n",
    "[ 76.,  80.,  98.]])\n",
    "```"
   ]
  },
  {
   "cell_type": "code",
   "execution_count": null,
   "metadata": {},
   "outputs": [],
   "source": []
  },
  {
   "cell_type": "markdown",
   "metadata": {},
   "source": [
    "6. Escribe la función `valoresf(f, xmin, xmax, filename, pasos=1)` que tome una función `f` y cree un archivo llamado `filename` dónde se muestren los valores de `f` evaluados desde `f(xmin)` hasta `f(xmax)` tomando pasos de tamaño `pasos`.\n",
    "\n",
    "Por ejemplo:\n",
    "```python\n",
    "def f(x): return x**2\n",
    "\n",
    "valoresf(f, -2, 2, \"fx2.txt\", pasos=0.5)\n",
    "```\n",
    "\n",
    "Deberá crear un archivo `fx2.txt` con la siguiente información **y formato**:\n",
    "```\n",
    "f(-2.000) = 4.000\n",
    "f(-1.500) = 2.250\n",
    "f(-1.000) = 1.000\n",
    "f(-0.500) = 0.250\n",
    "f(0.000) = 0.000\n",
    "f(0.500) = 0.250\n",
    "f(1.000) = 1.000\n",
    "f(1.500) = 2.250\n",
    "f(2.000) = 4.000\n",
    "```"
   ]
  },
  {
   "cell_type": "code",
   "execution_count": null,
   "metadata": {},
   "outputs": [],
   "source": []
  }
 ],
 "metadata": {
  "kernelspec": {
   "display_name": "Python 3",
   "language": "python",
   "name": "python3"
  },
  "language_info": {
   "codemirror_mode": {
    "name": "ipython",
    "version": 3
   },
   "file_extension": ".py",
   "mimetype": "text/x-python",
   "name": "python",
   "nbconvert_exporter": "python",
   "pygments_lexer": "ipython3",
   "version": "3.7.3"
  }
 },
 "nbformat": 4,
 "nbformat_minor": 2
}

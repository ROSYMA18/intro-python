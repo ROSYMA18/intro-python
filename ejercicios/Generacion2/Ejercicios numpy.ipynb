{
 "cells": [
  {
   "cell_type": "markdown",
   "metadata": {},
   "source": [
    "https://s3.amazonaws.com/assets.datacamp.com/blog_assets/Numpy_Python_Cheat_Sheet.pdf"
   ]
  },
  {
   "cell_type": "markdown",
   "metadata": {},
   "source": [
    "# Ejercicio 1\n",
    "\n",
    "Crea un arreglo de numpy de tamaño 10 x 10 con cada una de sus entradas igual a True"
   ]
  },
  {
   "cell_type": "code",
   "execution_count": null,
   "metadata": {},
   "outputs": [],
   "source": [
    "#Método 1 \n",
    "arreglo = np.array([[True]*5,[True]*5,[True]*5,[True]*5,[True]*5])\n",
    "print(arreglo)\n",
    "print('-'*50)\n",
    "\n",
    "#Método 2\n",
    "arreglo = np.ones(shape = (5,5), dtype = bool)\n",
    "print(arreglo)\n",
    "print('-'*50)\n",
    "\n",
    "#Método 3\n",
    "arreglo = np.full(shape = (5,5), fill_value = True)\n",
    "print(arreglo)"
   ]
  },
  {
   "cell_type": "markdown",
   "metadata": {},
   "source": [
    "# Ejercicio 2\n",
    "\n",
    "Ordene el arreglo \n",
    "```python\n",
    "x = np.array([[4,2,87,3,1], [90,11,100,3,60], [-80,-45,32,-88, 7]])\n",
    "```\n",
    "de la siguiente manera\n",
    "\n",
    "1. Ordenando cada columna de menor a mayor\n",
    "\n",
    "2. Ordenando cada columna de mayor a menor\n",
    "\n",
    "3. Ordenando cada renglón de menor a mayor\n",
    "\n",
    "4. Ordenando cada renglón de mayor a menor\n",
    "\n",
    "**Sugerencia:**\n",
    "\n",
    "Lea la ayuda de x.sort"
   ]
  },
  {
   "cell_type": "code",
   "execution_count": null,
   "metadata": {},
   "outputs": [],
   "source": [
    "x = np.array([[4,2,87,3,1], [90,11,100,3,60], [-80,-45,32,-88, 7]])\n",
    "print('ARREGLO ORIGINAL')\n",
    "print(x)\n",
    "print('-'*30)\n",
    "\n",
    "x.sort(axis = 0)\n",
    "print('ARREGLO CON COLUMNAS ORDENADAS (MENOR A MAYOR)')\n",
    "print(x)\n",
    "print('-'*30)\n",
    "\n",
    "x[:,:] = x[::-1, :]\n",
    "print('ARREGLO CON COLUMNAS ORDENADAS (MAYOR A MENOR)')\n",
    "print(x)\n",
    "\n",
    "x.sort(axis = 1)\n",
    "print('ARREGLO CON RENGLONES ORDENADOS (MENOR A MAYOR)')\n",
    "print(x)\n",
    "print('-'*30)\n",
    "\n",
    "x[:, :] = x[:, ::-1]\n",
    "print('ARREGLO CON RENGLONES ORDENADOS (MAYOR A MENOR)')\n",
    "print(x)\n"
   ]
  },
  {
   "cell_type": "markdown",
   "metadata": {},
   "source": [
    "# Ejercicio 3\n",
    "\n",
    "A partir de la cadena \n",
    "```python\n",
    "s = \"abcdefghijklmnopqrstuvwxyz01234567890ABCDEFGHIJKLMNOPQRSTUVWXYZ_\"\n",
    "```\n",
    "\n",
    "Cree una función que cree una constraseña aleatoria con determinada longitud.\n",
    "\n",
    "Esta contraseña no puede tener un mismo caracter (sin importar si es mayúscula o minúscula) repetido de forma consecutiva, por ejemplo, la contraseña **hHola** no es válida.\n",
    "\n",
    "**Sugerencia**\n",
    "\n",
    "Puede utilizar la función \n",
    "\n",
    "```python\n",
    "np.random.choice\n",
    "```"
   ]
  },
  {
   "cell_type": "code",
   "execution_count": null,
   "metadata": {},
   "outputs": [],
   "source": [
    "s = \"abcdefghijklmnopqrstuvwxyz01234567890ABCDEFGHIJKLMNOPQRSTUVWXYZ_\"\n",
    "def crea_pwd(s, long = 8):\n",
    "    '''\n",
    "    Función para crear una contraseña a partir de los caracteres en s\n",
    "    \n",
    "    ENTRADA\n",
    "    s: String\n",
    "    \n",
    "    long: Entero positivo (longitud de la contraseña)\n",
    "    \n",
    "    SALIDA\n",
    "    string\n",
    "    '''\n",
    "    \n",
    "    #para guardar el resultado\n",
    "    pwd = ''\n",
    "    \n",
    "    #Variable auxiliar para evitar caracteres repetidos\n",
    "    prev = ''\n",
    "    \n",
    "    for i in range(long):\n",
    "        \n",
    "        \n",
    "        #Se elige un índice correspondiente a un elemento de s\n",
    "        #Ver ayuda de la función\n",
    "        indice = np.random.choice(range(len(s)), size = 1)\n",
    "        \n",
    "        #el resultado es un array, por eso es necesario la siguiente línea\n",
    "        indice = indice[0]\n",
    "        \n",
    "        #nuevo caracter\n",
    "        nuevo = s[indice]\n",
    "        \n",
    "        while nuevo.lower() == prev.lower():\n",
    "            indice = np.random.choice(range(len(s)), size = 1)\n",
    "            indice = indice[0]\n",
    "            nuevo = s[indice]\n",
    "            \n",
    "        prev = nuevo\n",
    "        pwd = pwd + nuevo\n",
    "        \n",
    "    return pwd\n",
    "\n",
    "pwd = crea_pwd(s, 15)\n",
    "print(pwd)"
   ]
  },
  {
   "cell_type": "markdown",
   "metadata": {},
   "source": [
    "# Ejercicio 4\n",
    "\n",
    "Utilizando el arreglo\n",
    "```python\n",
    "arr = np.random.randint(low = 0, high = 100, size = 50 )\n",
    "```\n",
    "filtre el arreglo obteniendo sólo los números pares"
   ]
  },
  {
   "cell_type": "code",
   "execution_count": null,
   "metadata": {},
   "outputs": [],
   "source": [
    "arr = np.random.randint(low = 0, high = 100, size = 50 )\n",
    "arr[arr % 2 == 0]"
   ]
  },
  {
   "cell_type": "markdown",
   "metadata": {},
   "source": [
    "# Ejercicio 5\n",
    "\n",
    "Dado el arreglo bidimensional\n",
    "\n",
    "```python\n",
    "a = np.random.randint(1,10, [5,3])\n",
    "```\n",
    "Programe una función que calcule el cociente $\\dfrac{max}{min}$ de cada renglón.\n",
    "\n",
    "Haga lo mismo pero ahora para las columnas"
   ]
  },
  {
   "cell_type": "code",
   "execution_count": null,
   "metadata": {},
   "outputs": [],
   "source": [
    "a = np.random.randint(1,10, [5,3])\n",
    "print(a)"
   ]
  },
  {
   "cell_type": "code",
   "execution_count": null,
   "metadata": {},
   "outputs": [],
   "source": [
    "def max_min(a, axis = 1):\n",
    "    if axis == 1:\n",
    "        #Renglones\n",
    "        return a.max(axis = 1) / a.min(axis = 1)\n",
    "    elif axis == 0:\n",
    "        #columnas\n",
    "        return a.max(axis = 0) / a.min(axis = 0)"
   ]
  },
  {
   "cell_type": "code",
   "execution_count": null,
   "metadata": {},
   "outputs": [],
   "source": [
    "renglones = max_min(a, 1)\n",
    "print(renglones)\n",
    "columnas = max_min(a, 0)\n",
    "print(columnas)"
   ]
  },
  {
   "cell_type": "markdown",
   "metadata": {},
   "source": [
    "# Ejercicio 6\n",
    "\n",
    "Programe una función que calcule la distancia euclidiana entre dos puntos en $\\mathbb{R}^n$."
   ]
  },
  {
   "cell_type": "code",
   "execution_count": null,
   "metadata": {},
   "outputs": [],
   "source": [
    "def distancia(punto1, punto2):\n",
    "    return np.sqrt(np.sum( (punto1 - punto2)**2 ))"
   ]
  },
  {
   "cell_type": "markdown",
   "metadata": {},
   "source": [
    "# Ejercicio 7\n",
    "\n",
    "Escriba la función (`suma_pos`) que tome un numpy array y regrese la suma de todos los elementos positivos del array\n",
    "\n",
    "```python\n",
    ">>> a1 = np.array([[ 0,  4,  1],\n",
    "                   [-3, -3,  1],\n",
    "                   [-3,  2, -3]])\n",
    ">>> suma_pos(a1)\n",
    "8\n",
    "```"
   ]
  },
  {
   "cell_type": "code",
   "execution_count": null,
   "metadata": {},
   "outputs": [],
   "source": []
  },
  {
   "cell_type": "markdown",
   "metadata": {},
   "source": [
    "# Ejercicio 8 (clase pasada)\n",
    "\n",
    "Usando el archivo `6m_rates.csv`, crear el diccionario `tasas` donde las llaves sean las fechas (`datetime.datetime`) y los valores (`float`) las tasas a esa fecha.\n",
    "```python\n",
    ">>>tasas[datetime(2017, 2, 1)]\n",
    "2.58\n",
    ">>>tasas[datetime(2013, 4, 1)]\n",
    "1.9\n",
    "```"
   ]
  },
  {
   "cell_type": "code",
   "execution_count": null,
   "metadata": {},
   "outputs": [],
   "source": []
  },
  {
   "cell_type": "markdown",
   "metadata": {},
   "source": [
    "# Ejercicio 9 (de lec07)\n",
    "\n",
    "Crea un numpy array en $\\mathbb{R}^{10\\times 10}$ tal que\n",
    "\n",
    "$$\n",
    "x_{i,j} = \n",
    "\\begin{cases}\n",
    "    2i & \\forall \\ i = j \\\\\n",
    "    0 & \\forall \\ i \\neq j\n",
    "\\end{cases}\n",
    "$$\n",
    "\n",
    "Considera $i, j \\in \\{1, \\ldots, 10\\}$"
   ]
  },
  {
   "cell_type": "code",
   "execution_count": null,
   "metadata": {},
   "outputs": [],
   "source": []
  }
 ],
 "metadata": {
  "kernelspec": {
   "display_name": "Python 3",
   "language": "python",
   "name": "python3"
  },
  "language_info": {
   "codemirror_mode": {
    "name": "ipython",
    "version": 3
   },
   "file_extension": ".py",
   "mimetype": "text/x-python",
   "name": "python",
   "nbconvert_exporter": "python",
   "pygments_lexer": "ipython3",
   "version": "3.7.3"
  }
 },
 "nbformat": 4,
 "nbformat_minor": 2
}

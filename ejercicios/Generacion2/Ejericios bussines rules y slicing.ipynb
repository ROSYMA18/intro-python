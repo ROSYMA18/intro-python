{
 "cells": [
  {
   "cell_type": "markdown",
   "metadata": {},
   "source": [
    "# Ejercicio 1\n",
    "\n",
    "## Following business day rule\n",
    "\n",
    "Cuando la fecha de un pago cae en fin de semana o día festivo, esta fecha es ajustada para que sea el día hábil siguiente más cercano.\n",
    "\n",
    "Programe una función que haga dicho ajuste.\n",
    "\n",
    "```python\n",
    "def following_day_rule(fecha = '2019/11/01', festivos = ['2019/11/01']):\n",
    "```\n",
    "\n",
    "* Fecha de pago 2019/11/01\n",
    "* Día festivo 2019/11/01\n",
    "* Fecha ajustada 2019/11/04"
   ]
  },
  {
   "cell_type": "markdown",
   "metadata": {},
   "source": [
    "# Ejercicio 2\n",
    "\n",
    "## Modified following business day rule\n",
    "\n",
    "Cuando la fecha de un pago es un fin de semana o día festivo, esta fecha es ajustada para que sea el día hábil siguiente más cercano. Sin embargo, si dicho día no está dentro del mismo mes, entonces la fecha se ajusta para que sea el día hábil anterior más cercano a la fecha de pago.\n",
    "\n",
    "Programe una función que haga dicho ajuste.\n",
    "\n",
    "```python\n",
    "def mod_foll_rule(fecha = '2019/11/29', festivos = ['2019/11/29']):\n",
    "```\n",
    "\n",
    "* Fecha de pago 2019/11/29\n",
    "* Día festivo 2019/11/29\n",
    "* Fecha ajustada 2019/11/28"
   ]
  },
  {
   "cell_type": "markdown",
   "metadata": {},
   "source": [
    "# Ejercicio 3\n",
    "\n",
    "## Preceding business day rule\n",
    "\n",
    "Cuando la fecha de pago es un fin de semana o día festivo, esta fecha es ajustada para que sea el día hábil anterior más cercano.\n",
    "\n",
    "Programe una función que haga dicho ajuste.\n",
    "\n",
    "```python\n",
    "def pre_day_rule(fecha = '2019/11/01', festivos = ['2019/11/01']):\n",
    "```\n",
    "\n",
    "* Fecha de pago 2019/11/04\n",
    "* Festivos 2019/11/01 y 2019/11/04\n",
    "* Fecha ajustada 2019/10/21"
   ]
  },
  {
   "cell_type": "markdown",
   "metadata": {},
   "source": [
    "# Ejercicio 4\n",
    "\n",
    "## Modified preceding business day rule\n",
    "\n",
    "Cuando la fecha de pago es un fin de semana o días festivo, la fecha se ajusta para que sea el día hábil anterior más cercano. Sin embargo, si este día no está dentro del mismo mes, esta fecha se ajusta para que sea el día hábil posterior más cercano a la fecha de pago.\n",
    "\n",
    "```python\n",
    "def mod_pre_day_rule(fecha = '2019/11/01', festivos = ['2019/11/01']):\n",
    "```\n",
    "* Fecha de pago 2019/11/04\n",
    "* Festivos 2019/11/01 y 2019/11/04\n",
    "* Fecha ajustada 2019/11/05\n"
   ]
  },
  {
   "cell_type": "markdown",
   "metadata": {},
   "source": [
    "# Ejercicio 5\n",
    "\n",
    "Implementa la multiplicación de matrices.\n",
    "\n",
    "1. Utilizando sólamente listas.\n",
    "\n",
    "2. Utilizando arreglos de numpy (sin utilizar la función matmul)"
   ]
  },
  {
   "cell_type": "markdown",
   "metadata": {},
   "source": [
    "# Ejercicio 6\n",
    "\n",
    "Cree un numpy array ```x = numpy.random.randint(-10, 10, size = 30)``` y obtenga un array ```y``` de strings con entradas:\n",
    "\n",
    "* Mayor a 0\n",
    "\n",
    "* Menor a 0\n",
    "\n",
    "* Mayor o igual a 5\n",
    "\n",
    "* Menor que 5\n",
    "\n",
    "de acuerdo a las entradas que tenga ```x```.\n",
    "\n",
    "**Sugerencia**\n",
    "\n",
    "Para crear el arreglo ```y``` puede utilizar ```np.array```y el argumento ```dtype=object```."
   ]
  },
  {
   "cell_type": "code",
   "execution_count": null,
   "metadata": {},
   "outputs": [],
   "source": []
  }
 ],
 "metadata": {
  "kernelspec": {
   "display_name": "Python 3",
   "language": "python",
   "name": "python3"
  },
  "language_info": {
   "codemirror_mode": {
    "name": "ipython",
    "version": 3
   },
   "file_extension": ".py",
   "mimetype": "text/x-python",
   "name": "python",
   "nbconvert_exporter": "python",
   "pygments_lexer": "ipython3",
   "version": "3.7.3"
  }
 },
 "nbformat": 4,
 "nbformat_minor": 2
}

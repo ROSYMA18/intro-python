{
 "cells": [
  {
   "cell_type": "markdown",
   "metadata": {},
   "source": [
    "# Ejercicio 1\n",
    "\n",
    "## Following business day rule\n",
    "\n",
    "Cuando la fecha de un pago cae en fin de semana o día festivo, esta fecha es ajustada para que sea el día hábil siguiente más cercano.\n",
    "\n",
    "Programe una función que haga dicho ajuste.\n",
    "\n",
    "```python\n",
    "def following_day_rule(fecha = '2019/11/01', festivos = ['2019/11/01']):\n",
    "```\n",
    "\n",
    "* Fecha de pago 2019/11/01\n",
    "* Día festivo 2019/11/01\n",
    "* Fecha ajustada 2019/11/04"
   ]
  },
  {
   "cell_type": "code",
   "execution_count": 1,
   "metadata": {},
   "outputs": [
    {
     "data": {
      "text/plain": [
       "datetime.datetime(2019, 11, 4, 0, 0)"
      ]
     },
     "execution_count": 1,
     "metadata": {},
     "output_type": "execute_result"
    }
   ],
   "source": [
    "from datetime import datetime, timedelta\n",
    "#import datetime as dt\n",
    "#dt.datetime.strptime\n",
    "\n",
    "############ EJERCICIO 1 ##########################\n",
    "#A manera de ejemplo supongamos que este día\n",
    "#es un día festivo\n",
    "festivo = datetime.strptime('2019/11/01', '%Y/%m/%d')\n",
    "festivos = [festivo]\n",
    "\n",
    "def following_day_rule(fecha = '2019/11/01', festivos = []):\n",
    "    #convierte  a datetime\n",
    "    fecha = datetime.strptime(fecha, '%Y/%m/%d')\n",
    "    \n",
    "    while fecha.weekday() in [5,6] or fecha in festivos:\n",
    "        fecha = fecha + timedelta(days = 1)\n",
    "    return fecha    \n",
    "\n",
    "following_day_rule(festivos = festivos)"
   ]
  },
  {
   "cell_type": "markdown",
   "metadata": {},
   "source": [
    "# Ejercicio 2\n",
    "\n",
    "## Modified following business day rule\n",
    "\n",
    "Cuando la fecha de un pago es un fin de semana o día festivo, esta fecha es ajustada para que sea el día hábil siguiente más cercano. Sin embargo, si dicho día no está dentro del mismo mes, entonces la fecha se ajusta para que sea el día hábil anterior más cercano a la fecha de pago.\n",
    "\n",
    "Programe una función que haga dicho ajuste.\n",
    "\n",
    "```python\n",
    "def mod_foll_rule(fecha = '2019/11/29', festivos = ['2019/11/29']):\n",
    "```\n",
    "\n",
    "* Fecha de pago 2019/11/29\n",
    "* Día festivo 2019/11/29\n",
    "* Fecha ajustada 2019/11/28"
   ]
  },
  {
   "cell_type": "code",
   "execution_count": 3,
   "metadata": {},
   "outputs": [
    {
     "data": {
      "text/plain": [
       "datetime.datetime(2019, 11, 28, 0, 0)"
      ]
     },
     "execution_count": 3,
     "metadata": {},
     "output_type": "execute_result"
    }
   ],
   "source": [
    "festivo = datetime.strptime('2019/11/29', '%Y/%m/%d')\n",
    "festivos = [festivo]\n",
    "def mod_foll_rule(fecha = '2019/11/29', festivos=[]):\n",
    "    \n",
    "    fecha_dt = datetime.strptime(fecha, '%Y/%m/%d')\n",
    "    \n",
    "    #Primero aplica following_day_rule\n",
    "    nueva_fecha = following_day_rule(fecha, festivos)\n",
    "    \n",
    "    if nueva_fecha.month == fecha_dt.month:\n",
    "        return nueva_fecha\n",
    "    else:\n",
    "        while nueva_fecha.month != fecha_dt.month or nueva_fecha.weekday() in [5,6] or nueva_fecha in festivos:\n",
    "            nueva_fecha = nueva_fecha - timedelta(days = 1)\n",
    "        return nueva_fecha\n",
    "\n",
    "mod_foll_rule(festivos = festivos)"
   ]
  },
  {
   "cell_type": "markdown",
   "metadata": {},
   "source": [
    "# Ejercicio 3\n",
    "\n",
    "## Preceding business day rule\n",
    "\n",
    "Cuando la fecha de pago es un fin de semana o día festivo, esta fecha es ajustada para que sea el día hábil anterior más cercano.\n",
    "\n",
    "Programe una función que haga dicho ajuste.\n",
    "\n",
    "```python\n",
    "def pre_day_rule(fecha = '2019/11/01', festivos = ['2019/11/01']):\n",
    "```\n",
    "\n",
    "* Fecha de pago 2019/11/04\n",
    "* Festivos 2019/11/01 y 2019/11/04\n",
    "* Fecha ajustada 2019/10/31"
   ]
  },
  {
   "cell_type": "code",
   "execution_count": 4,
   "metadata": {},
   "outputs": [
    {
     "data": {
      "text/plain": [
       "datetime.datetime(2019, 10, 31, 0, 0)"
      ]
     },
     "execution_count": 4,
     "metadata": {},
     "output_type": "execute_result"
    }
   ],
   "source": [
    "festivo1 = datetime.strptime('2019/11/04', '%Y/%m/%d')\n",
    "festivo2 = datetime.strptime('2019/11/01', '%Y/%m/%d')\n",
    "festivos = [festivo1, festivo2]\n",
    "def pre_day_rule(fecha = '2019/11/04', festivos = []):\n",
    "    nueva_fecha = datetime.strptime(fecha, '%Y/%m/%d')\n",
    "    \n",
    "    while nueva_fecha.weekday() in [5,6] or nueva_fecha in festivos:\n",
    "        nueva_fecha = nueva_fecha - timedelta(days=1)\n",
    "    return nueva_fecha\n",
    "pre_day_rule(festivos = festivos)"
   ]
  },
  {
   "cell_type": "markdown",
   "metadata": {},
   "source": [
    "# Ejercicio 4\n",
    "\n",
    "## Modified preceding business day rule\n",
    "\n",
    "Cuando la fecha de pago es un fin de semana o días festivo, la fecha se ajusta para que sea el día hábil anterior más cercano. Sin embargo, si este día no está dentro del mismo mes, esta fecha se ajusta para que sea el día hábil posterior más cercano a la fecha de pago.\n",
    "\n",
    "```python\n",
    "def mod_pre_day_rule(fecha = '2019/11/01', festivos = ['2019/11/01']):\n",
    "```\n",
    "* Fecha de pago 2019/11/04\n",
    "* Festivos 2019/11/01 y 2019/11/04\n",
    "* Fecha ajustada 2019/11/05\n"
   ]
  },
  {
   "cell_type": "code",
   "execution_count": 5,
   "metadata": {},
   "outputs": [
    {
     "data": {
      "text/plain": [
       "datetime.datetime(2019, 11, 5, 0, 0)"
      ]
     },
     "execution_count": 5,
     "metadata": {},
     "output_type": "execute_result"
    }
   ],
   "source": [
    "festivo1 = datetime.strptime('2019/11/04', '%Y/%m/%d')\n",
    "festivo2 = datetime.strptime('2019/11/01', '%Y/%m/%d')\n",
    "festivos = [festivo1, festivo2]\n",
    "\n",
    "def mod_pre_day_rule(fecha = '2019/11/04', festivos = []):\n",
    "    fecha_dt = datetime.strptime(fecha, '%Y/%m/%d')\n",
    "    \n",
    "    #Primero aplica pre_day_rule\n",
    "    nueva_fecha = pre_day_rule(fecha, festivos)\n",
    "    \n",
    "    if nueva_fecha.month == fecha_dt.month:\n",
    "        return nueva_fecha\n",
    "    else:\n",
    "        while nueva_fecha.month != fecha_dt.month or nueva_fecha.weekday() in [5,6] or nueva_fecha in festivos:\n",
    "            nueva_fecha = nueva_fecha + timedelta(days = 1)\n",
    "        return nueva_fecha    \n",
    "mod_pre_day_rule(festivos = festivos)   "
   ]
  },
  {
   "cell_type": "markdown",
   "metadata": {},
   "source": [
    "# Ejercicio 5\n",
    "\n",
    "Implementa la multiplicación de matrices.\n",
    "\n",
    "1. Utilizando sólamente listas.\n",
    "\n",
    "2. Utilizando arreglos de numpy (sin utilizar la función matmul)\n",
    "\n",
    "$$\n",
    "\\begin{pmatrix}\n",
    "1 & 2 & 3 \\\\\n",
    "4 & 5 & 6\\\\\n",
    "7 & 8 & 9\n",
    "\\end{pmatrix}^2 =\n",
    "\\begin{pmatrix}\n",
    "30 & 36 & 42 \\\\\n",
    "66 & 81 & 96 \\\\\n",
    "102 & 126 & 150\n",
    "\\end{pmatrix}\n",
    "$$"
   ]
  },
  {
   "cell_type": "code",
   "execution_count": 4,
   "metadata": {},
   "outputs": [
    {
     "data": {
      "text/plain": [
       "[[30, 36, 42], [66, 81, 96], [102, 126, 150]]"
      ]
     },
     "execution_count": 4,
     "metadata": {},
     "output_type": "execute_result"
    }
   ],
   "source": [
    "A = [[1,2,3], [4,5,6], [7,8,9]]\n",
    "def obten_columna(matriz, col = 0):\n",
    "    columna = []\n",
    "    for reng in matriz:\n",
    "        columna.append(reng[col])\n",
    "    return columna\n",
    "\n",
    "obten_columna(A, 2)\n",
    "\n",
    "def producto_punto(vect1, vect2):\n",
    "    suma = 0\n",
    "    for i in range(len(vect1)):\n",
    "        suma = suma + vect1[i] * vect2[i]\n",
    "    return suma\n",
    "\n",
    "def producto_matrices(mat1, mat2):\n",
    "    \n",
    "    producto = []\n",
    "    \n",
    "    for renglon in mat1:\n",
    "        reng_resultado = []\n",
    "        \n",
    "        for i in range(len(renglon)):\n",
    "            col_mat2 = obten_columna(mat2, i)\n",
    "            prod_punto = producto_punto(renglon, col_mat2)\n",
    "            reng_resultado.append(prod_punto)\n",
    "        producto.append(reng_resultado)\n",
    "    return producto\n",
    "\n",
    "producto_matrices(A,A)"
   ]
  },
  {
   "cell_type": "markdown",
   "metadata": {},
   "source": [
    "# Ejercicio 6\n",
    "\n",
    "Cree un numpy array ```x = numpy.random.randint(-10, 10, size = 30)``` y obtenga un array ```y``` de strings con entradas:\n",
    "\n",
    "* Mayor o igual a 0 y menor que 5\n",
    "\n",
    "* Menor a 0\n",
    "\n",
    "* Mayor o igual a 5\n",
    "\n",
    "\n",
    "de acuerdo a las entradas que tenga ```x```.\n",
    "\n",
    "**Sugerencia**\n",
    "\n",
    "Para crear el arreglo ```y``` puede utilizar ```np.array```y el argumento ```dtype=object```."
   ]
  },
  {
   "cell_type": "code",
   "execution_count": 6,
   "metadata": {},
   "outputs": [
    {
     "data": {
      "text/plain": [
       "array([  2,   0,   2,  -8,   2,   7,  -8, -10,   3,  -7,   3,  -2,  -4,\n",
       "        -9,  -3,  -1,   1,  -8,  -2,   5,   9,   0,   1,  -7,  -4,  -2,\n",
       "         2,   1,  -6,   0])"
      ]
     },
     "execution_count": 6,
     "metadata": {},
     "output_type": "execute_result"
    }
   ],
   "source": [
    "import numpy as np\n",
    "x = np.random.randint(-10, 10, size = 30)\n",
    "x"
   ]
  },
  {
   "cell_type": "code",
   "execution_count": 17,
   "metadata": {},
   "outputs": [
    {
     "name": "stdout",
     "output_type": "stream",
     "text": [
      "['algo' 'algo' 'algo' 'algo' 'algo' 'algo' 'algo' 'algo' 'algo' 'algo'\n",
      " 'algo' 'algo' 'algo' 'algo' 'algo' 'algo' 'algo' 'algo' 'algo' 'algo'\n",
      " 'algo' 'algo' 'algo' 'algo' 'algo' 'algo' 'algo' 'algo' 'algo' 'algo']\n"
     ]
    }
   ],
   "source": [
    "y = np.array(['algo']*len(x), dtype = object)\n",
    "print(y)"
   ]
  },
  {
   "cell_type": "code",
   "execution_count": 24,
   "metadata": {},
   "outputs": [
    {
     "name": "stdout",
     "output_type": "stream",
     "text": [
      "['Mayor o igual que cero y menor que 5'\n",
      " 'Mayor o igual que cero y menor que 5'\n",
      " 'Mayor o igual que cero y menor que 5' 'algo'\n",
      " 'Mayor o igual que cero y menor que 5' 'algo' 'algo' 'algo'\n",
      " 'Mayor o igual que cero y menor que 5' list([1, 2, 3])\n",
      " 'Mayor o igual que cero y menor que 5' 'algo' 'algo' 'algo' 'algo' 'algo'\n",
      " 'Mayor o igual que cero y menor que 5' 'algo' 'algo' 'algo' 'algo'\n",
      " 'Mayor o igual que cero y menor que 5'\n",
      " 'Mayor o igual que cero y menor que 5' 'algo' 'algo' 'algo'\n",
      " 'Mayor o igual que cero y menor que 5'\n",
      " 'Mayor o igual que cero y menor que 5' 'algo'\n",
      " 'Mayor o igual que cero y menor que 5']\n"
     ]
    }
   ],
   "source": [
    "indices_cond1 = np.where((x >= 0) &  (x < 5))\n",
    "y[indices_cond1] = 'Mayor o igual que cero y menor que 5'\n",
    "print(y)"
   ]
  },
  {
   "cell_type": "code",
   "execution_count": null,
   "metadata": {},
   "outputs": [],
   "source": []
  },
  {
   "cell_type": "code",
   "execution_count": null,
   "metadata": {},
   "outputs": [],
   "source": []
  }
 ],
 "metadata": {
  "kernelspec": {
   "display_name": "Python 3",
   "language": "python",
   "name": "python3"
  },
  "language_info": {
   "codemirror_mode": {
    "name": "ipython",
    "version": 3
   },
   "file_extension": ".py",
   "mimetype": "text/x-python",
   "name": "python",
   "nbconvert_exporter": "python",
   "pygments_lexer": "ipython3",
   "version": "3.7.3"
  }
 },
 "nbformat": 4,
 "nbformat_minor": 2
}

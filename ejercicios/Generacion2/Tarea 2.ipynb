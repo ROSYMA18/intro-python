{
 "cells": [
  {
   "cell_type": "markdown",
   "metadata": {},
   "source": [
    "# Ejercicio 1\n",
    "\n",
    "A partir del archivo inegi.json localizado en '/files/lec06/' crear un numpy array que contenga la información del campo **OBS_VALUE**\n",
    "\n",
    "**Sugerencia**\n",
    "\n",
    "Lea la documentación de \n",
    "\n",
    "```python\n",
    "numpy.append\n",
    "```"
   ]
  },
  {
   "cell_type": "markdown",
   "metadata": {},
   "source": [
    "# Ejercicio 2\n",
    "\n",
    "Utilizando el archivo csv *sp500.csv* que se encuentra en **intro-python/ejercicios/datos/**, programe una función que calcule el promedio móvil de la columna *Adj Close*, utilizando una ventana de tiempo de $n$ días.\n",
    "\n",
    "**Ejemplo de cálculo**\n",
    "\n",
    "Suponga que se tiene el vector precios ```p = [11,12,13,14,15,16,17]``` y que $n = 3$,  si $MA(t,p,n)$ denota el promedio móvil en el momento $t$ para la serie $p$ con una ventana de tiempo $n$, entonces:\n",
    "\n",
    "* $MA(0,p,3) = \\dfrac{11 + 12 + 13}{3}$\n",
    "\n",
    "* $MA(1,p,3) = \\dfrac{12 + 13 + 14}{3}$ \n",
    "\n",
    "* $MA(2,p,3) = \\dfrac{13 + 14 + 15}{3}$\n",
    "\n",
    "* $MA(3,p,3) = \\dfrac{14 + 15 + 16}{3}$ \n",
    "\n",
    "* $MA(4,p,3) = \\dfrac{15 + 16 + 17}{3}$ "
   ]
  },
  {
   "cell_type": "markdown",
   "metadata": {},
   "source": [
    "# Ejercicio 3\n",
    "\n",
    "Utilizando el archivo *bono.csv*, programe una función para calcular el precio de un bono:\n",
    "\n",
    "$$\n",
    "Precio_{t_0} = \\sum_{i = 1}^{n} \\dfrac{cupon_i}{ \\left(1 + r_i \\right)^{\\tau_i}} + \\dfrac{Nominal}{ \\left(1 + r_n \\right)^{\\tau_n}}\n",
    "$$\n",
    "\n",
    "En donde \n",
    "\n",
    "* $\\tau_i = \\dfrac{Fecha_i - Fecha_{valuacion}}{360}$\n",
    "\n",
    "Considere como fecha de valuación , $t_0$, el día 29 de Noviembre de 2019 y un nominal de 100.\n",
    "\n",
    "**Sugerencia**\n",
    "\n",
    "Si se tienen dos objetos del tipo ```datetime.datetime```, $f1$ y $f2$, entonces su resta, $delta = f2 - f1$ es un objeto del tipo ```datetime.timedelta``` el cual tiene un atributo llamado ```days```."
   ]
  },
  {
   "cell_type": "code",
   "execution_count": null,
   "metadata": {},
   "outputs": [],
   "source": []
  },
  {
   "cell_type": "code",
   "execution_count": null,
   "metadata": {},
   "outputs": [],
   "source": []
  }
 ],
 "metadata": {
  "kernelspec": {
   "display_name": "Python 3",
   "language": "python",
   "name": "python3"
  },
  "language_info": {
   "codemirror_mode": {
    "name": "ipython",
    "version": 3
   },
   "file_extension": ".py",
   "mimetype": "text/x-python",
   "name": "python",
   "nbconvert_exporter": "python",
   "pygments_lexer": "ipython3",
   "version": "3.7.3"
  }
 },
 "nbformat": 4,
 "nbformat_minor": 2
}

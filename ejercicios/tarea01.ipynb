{
 "cells": [
  {
   "cell_type": "markdown",
   "metadata": {},
   "source": [
    "<img src=\"../files/misc/logo.gif\" width=300/>\n",
    "<img src=\"../files/misc/itam.JPG\" width=300/>\n",
    "<h1 style=\"color:#872325\">Tarea 01</h1>\n",
    "\n",
    "Bienvenido(a) a tu primera tarea en Python (🎉). Para esta y otras tareas del curso no podrás usar ninguna otra herramienta más que las vistas en clase (a menos que se indique lo contrario en las instrucciones)"
   ]
  },
  {
   "cell_type": "markdown",
   "metadata": {},
   "source": [
    "**1.**  Escribe un programa que le pida al usuario un nombre y salude con: \"Hola, `nombre`\""
   ]
  },
  {
   "cell_type": "code",
   "execution_count": null,
   "metadata": {},
   "outputs": [],
   "source": []
  },
  {
   "cell_type": "markdown",
   "metadata": {},
   "source": [
    "-------"
   ]
  },
  {
   "cell_type": "markdown",
   "metadata": {},
   "source": [
    "**2.** Escribe un programa que pida un nombre y la edad y salude a la persona con su nombre y su edad más un año:\n",
    "Hola, `nombre`. El proximo año tendrás `edad + 1`.\n",
    "    \n",
    "Por ejemplo, una persona con nombre `Michael` de edad `77`. El programa debe regresar\n",
    "\n",
    "``\n",
    "\"Hola Michael, el próximo año tendrás 78 años\"\n",
    "``"
   ]
  },
  {
   "cell_type": "code",
   "execution_count": null,
   "metadata": {},
   "outputs": [],
   "source": []
  },
  {
   "cell_type": "markdown",
   "metadata": {},
   "source": [
    "-------"
   ]
  },
  {
   "cell_type": "markdown",
   "metadata": {},
   "source": [
    "**3.** Escribe un programa que regrese la suma del número máximo y mínimo dentro de la lista `numbers`.\n",
    "```python\n",
    "numbers = [1, 4, 7, 1, 2, 9, 6]\n",
    "```"
   ]
  },
  {
   "cell_type": "code",
   "execution_count": null,
   "metadata": {},
   "outputs": [],
   "source": []
  },
  {
   "cell_type": "markdown",
   "metadata": {},
   "source": [
    "-------"
   ]
  },
  {
   "cell_type": "markdown",
   "metadata": {},
   "source": [
    "**4.** ¿Cuáles son las repuestas a la siguientes expresiones? (Analiza la solución antes de ver el resultado en Python) \n",
    "\n",
    "Explica tu razonamiento\n",
    "\n",
    "```python\n",
    "2 ^ 3 // 4\n",
    "\n",
    "0 + 3 / 2 - 2\n",
    "\n",
    "3 ** (1 - 1)\n",
    "\n",
    "3 ** 1 - 1\n",
    "```"
   ]
  },
  {
   "cell_type": "code",
   "execution_count": null,
   "metadata": {},
   "outputs": [],
   "source": []
  },
  {
   "cell_type": "markdown",
   "metadata": {},
   "source": [
    "-------"
   ]
  },
  {
   "cell_type": "markdown",
   "metadata": {},
   "source": [
    "**5.** Si el pequeño Johny quiere invertir $30\\$$ a una tasa efectiva anual del $7\\%$ por 5 meses, ¿le conviene más invertir su dinero a una tasa compuesta o simple?\n",
    "\n",
    "Argumenta tu resultado númericamente"
   ]
  },
  {
   "cell_type": "code",
   "execution_count": null,
   "metadata": {},
   "outputs": [],
   "source": []
  },
  {
   "cell_type": "markdown",
   "metadata": {},
   "source": [
    "-------"
   ]
  },
  {
   "cell_type": "markdown",
   "metadata": {},
   "source": [
    "**6.** Aproxima la derivada de $f(x) = x^2$ al rededor de $x = 3$, con un grado de error porcentual de, al menos, $0.0001666659\\%$\n",
    "\n",
    "Recuerda:\n",
    "$$\n",
    "    \\frac{d}{dx}f(x) := \\lim_{h\\to 0}\\frac{f(x + h) - f(x)}{h}\n",
    "$$"
   ]
  },
  {
   "cell_type": "code",
   "execution_count": null,
   "metadata": {},
   "outputs": [],
   "source": []
  },
  {
   "cell_type": "markdown",
   "metadata": {},
   "source": [
    "-------"
   ]
  },
  {
   "cell_type": "markdown",
   "metadata": {},
   "source": [
    "**7.** Supón que dentro que dentro de una lista mágica hay manzanas verdes (`v`) y manzanas rojas (`r`). Dicha lista se llama `manzanas` y contiene $100$ elementos. Nuestro espacio muestral es equiprobable, por lo que agarrar cualquier manzana tiene la misma probablidad.\n",
    "\n",
    "```python\n",
    "manzanas =['v', 'v', 'r', 'v', 'r', 'r', 'v', 'r', 'v', 'r', 'v', 'r', 'v',\n",
    "           'v', 'r', 'r', 'v', 'r', 'v', 'r', 'r', 'r', 'r', 'r', 'v', 'v',\n",
    "           'r', 'r', 'r', 'r', 'r', 'r', 'r', 'v', 'r', 'r', 'r', 'v', 'r',\n",
    "           'v', 'r', 'r', 'r', 'r', 'v', 'r', 'v', 'v', 'v', 'v', 'v', 'r',\n",
    "           'r', 'v', 'v', 'r', 'r', 'r', 'v', 'v', 'v', 'r', 'r', 'r', 'v',\n",
    "           'v', 'r', 'r', 'v', 'v', 'v', 'v', 'r', 'v', 'v', 'r', 'r', 'v',\n",
    "           'r', 'v', 'r', 'v', 'r', 'r', 'v', 'r', 'r', 'r', 'v', 'r', 'r',\n",
    "           'v', 'r', 'v', 'r', 'v', 'v', 'r', 'r', 'r']\n",
    "```\n",
    "\n",
    "1. ¿Cuál es la probabilidad de agarrar una manzana verde?\n",
    "2. ¿Cuál es la probabilidad de agarrar una manzana roja?\n",
    "3. ¿Cuál es la probabilidad de agarrar una manzana verde y después una roja?\n",
    "3. ¿Cuál es la probabilidad de agarrar una manzana roja y después otra roja?"
   ]
  },
  {
   "cell_type": "code",
   "execution_count": null,
   "metadata": {},
   "outputs": [],
   "source": []
  },
  {
   "cell_type": "markdown",
   "metadata": {},
   "source": [
    "-------"
   ]
  },
  {
   "cell_type": "markdown",
   "metadata": {},
   "source": [
    "**8.** El string `crypted` contiene un mensaje secreto de dos palabras. Elimina todos los `\"*\"`, `\"g\"` `\"v\"` y convierte el string en una lista de dos elementos con las palabras encriptadas.\n",
    "\n",
    "```python\n",
    "crypted = \"m*gevn*gsva*gjve*g-sve*gcvr*gevt*gov\"\n",
    "```\n"
   ]
  },
  {
   "cell_type": "code",
   "execution_count": null,
   "metadata": {},
   "outputs": [],
   "source": []
  },
  {
   "cell_type": "markdown",
   "metadata": {},
   "source": [
    "\n",
    "-------"
   ]
  },
  {
   "cell_type": "markdown",
   "metadata": {},
   "source": [
    "**9.** Considerando el diccionario `alumnos`, \n",
    "1. obten el color favorito de `\"José\"`\n",
    "2. obten la edad de `\"Johanna\"` y multiplicalo por dos.\n",
    "3. Obten el número de alumnos\n",
    "4. Obten el número características que tiene cualquier alumno\n",
    "\n",
    "```python\n",
    "alumnos = {\n",
    " \"José\": {\n",
    "  \"edad\": 11,\n",
    "  \"color\": \"rojo\",\n",
    "  \"carrera\": \"Administración\"\n",
    " },\n",
    " \"Charlie\": {\n",
    "  \"edad\": 33,\n",
    "  \"color\": \"Violeta\",\n",
    "  \"carrera\": \"Ingeniería\"\n",
    " },\n",
    " \"Luis\": {\n",
    "  \"edad\": 23,\n",
    "  \"color\": \"Negro\",\n",
    "  \"carrera\": \"Matemáticas\"\n",
    " },\n",
    " \"Johanna\": {\n",
    "  \"edad\": 18,\n",
    "  \"color\": \"Gris\",\n",
    "  \"carrera\": \"Finanzas\"\n",
    " }\n",
    "}\n",
    "```"
   ]
  },
  {
   "cell_type": "code",
   "execution_count": null,
   "metadata": {},
   "outputs": [],
   "source": []
  },
  {
   "cell_type": "markdown",
   "metadata": {},
   "source": [
    "\n",
    "-------"
   ]
  },
  {
   "cell_type": "markdown",
   "metadata": {},
   "source": [
    "**10.** Considerando el diccionario `people_book`,\n",
    "\n",
    "1. Encuentra todos los libros que Amy y Liam tengan en común\n",
    "2. Encuentra los libros que Amy y Noah tienen en conjunto\n",
    "3. Encuentra los libros que tenga James, pero no tengan Amy y Alexander en conjunto\n",
    "4. Encuentra los libros que solo James o Michael hayan leído, pero no el resto de los lectores\n",
    "\n",
    "```python\n",
    "people_book = {'Amy': {'A Modest Proposal',\n",
    "  'Adventures of Huckleberry Finn',\n",
    "  'Beowulf: An Anglo-Saxon Epic Poem (493)',\n",
    "  'Et dukkehjem. English',\n",
    "  'Frankenstein; Or, The Modern Prometheus',\n",
    "  'Pride and Prejudice',\n",
    "  'The Count of Monte Cristo, Illustrated',\n",
    "  'The Doom of London',\n",
    "  'The Strange Case of Dr. Jekyll and Mr. Hyde',\n",
    "  'War and Peace'},\n",
    " 'Liam': {'A Tale of Two Cities',\n",
    "  'Adventures of Huckleberry Finn',\n",
    "  'Dracula',\n",
    "  'Emma',\n",
    "  'Moby Dick; Or, The Whale',\n",
    "  'The Iliad',\n",
    "  'The Republic',\n",
    "  'The Romance of Lust: A Classic Victorian erotic novel',\n",
    "  'The Strange Case of Dr. Jekyll and Mr. Hyde',\n",
    "  'Ulysses'},\n",
    " 'Noah': {'Adventures of Huckleberry Finn',\n",
    "  'Decisive Battles of America',\n",
    "  'Et dukkehjem. English',\n",
    "  'Frankenstein; Or, The Modern Prometheus',\n",
    "  'The Adventures of Sherlock Holmes',\n",
    "  'The Adventures of Tom Sawyer',\n",
    "  'The Doom of London',\n",
    "  'The Picture of Dorian Gray',\n",
    "  'The Strange Case of Dr. Jekyll and Mr. Hyde',\n",
    "  'War and Peace'},\n",
    " 'Michael': {'A Tale of Two Cities',\n",
    "  \"Alice's Adventures in Wonderland\",\n",
    "  'Beowulf: An Anglo-Saxon Epic Poem (493)',\n",
    "  'Et dukkehjem. English',\n",
    "  'Frankenstein; Or, The Modern Prometheus',\n",
    "  'The Count of Monte Cristo, Illustrated',\n",
    "  'The Iliad',\n",
    "  'The Republic',\n",
    "  'Treasure Island',\n",
    "  'War and Peace'},\n",
    " 'Alexander': {'A Tale of Two Cities',\n",
    "  'Decisive Battles of America',\n",
    "  'Dracula',\n",
    "  \"Grimms' Fairy Tales\",\n",
    "  'The Doom of London',\n",
    "  'The Importance of Being Earnest: A Trivial Comedy for Serious People',\n",
    "  'The Romance of Lust: A Classic Victorian erotic novel',\n",
    "  'The Strange Case of Dr. Jekyll and Mr. Hyde',\n",
    "  'The Yellow Wallpaper',\n",
    "  'War and Peace'},\n",
    " 'James': {'Dracula',\n",
    "  'Et dukkehjem. English',\n",
    "  \"Grimms' Fairy Tales\",\n",
    "  'Heart of Darkness',\n",
    "  'Pride and Prejudice',\n",
    "  'The Adventures of Tom Sawyer',\n",
    "  'The Count of Monte Cristo, Illustrated',\n",
    "  'The Iliad',\n",
    "  'The Republic',\n",
    "  'The Romance of Lust: A Classic Victorian erotic novel'},\n",
    " 'Joseph': {'A Tale of Two Cities',\n",
    "  'Emma',\n",
    "  'Et dukkehjem. English',\n",
    "  'Heart of Darkness',\n",
    "  'Moby Dick; Or, The Whale',\n",
    "  'Pride and Prejudice',\n",
    "  'The Adventures of Tom Sawyer',\n",
    "  'Treasure Island',\n",
    "  'Ulysses',\n",
    "  'War and Peace'}}\n",
    "```"
   ]
  },
  {
   "cell_type": "code",
   "execution_count": null,
   "metadata": {},
   "outputs": [],
   "source": []
  },
  {
   "cell_type": "markdown",
   "metadata": {},
   "source": [
    "\n",
    "-------"
   ]
  }
 ],
 "metadata": {
  "kernelspec": {
   "display_name": "Python 3",
   "language": "python",
   "name": "python3"
  },
  "language_info": {
   "codemirror_mode": {
    "name": "ipython",
    "version": 3
   },
   "file_extension": ".py",
   "mimetype": "text/x-python",
   "name": "python",
   "nbconvert_exporter": "python",
   "pygments_lexer": "ipython3",
   "version": "3.7.3"
  }
 },
 "nbformat": 4,
 "nbformat_minor": 2
}

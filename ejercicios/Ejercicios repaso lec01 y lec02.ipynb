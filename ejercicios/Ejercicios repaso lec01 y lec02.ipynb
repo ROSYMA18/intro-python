{
 "cells": [
  {
   "cell_type": "markdown",
   "metadata": {},
   "source": [
    "# Ejercicios adicionales lec01 y lec02"
   ]
  },
  {
   "cell_type": "markdown",
   "metadata": {},
   "source": [
    "## Ejercicio 1\n",
    "\n",
    "Almacene en una variable llamada **lista_1** los siguientes elementos:\n",
    "\n",
    "* 'Hola'\n",
    "* 'Adios'\n",
    "* (1,2,3)\n",
    "* 5\n",
    "\n",
    "Piense en dos formas de realizar lo anterior."
   ]
  },
  {
   "cell_type": "code",
   "execution_count": 14,
   "metadata": {},
   "outputs": [],
   "source": [
    "#Primera forma\n",
    "lista_1 = ['Hola', 'Adios', (1,2,3), 5]"
   ]
  },
  {
   "cell_type": "code",
   "execution_count": 3,
   "metadata": {},
   "outputs": [
    {
     "data": {
      "text/plain": [
       "['Hola', 'Adios', (1, 2, 3), 5]"
      ]
     },
     "execution_count": 3,
     "metadata": {},
     "output_type": "execute_result"
    }
   ],
   "source": [
    "#segunda forma\n",
    "lista_1 = []\n",
    "lista_1.append('Hola')\n",
    "lista_1.append('Adios')\n",
    "lista_1.append((1,2,3))\n",
    "lista_1.append(5)\n",
    "lista_1"
   ]
  },
  {
   "cell_type": "markdown",
   "metadata": {},
   "source": [
    "## Ejercicio 2\n",
    "\n",
    "Utilizando el ejercicio 1, modifique el contenido de la variable **lista_1** convirtiendo el elemento (1,2,3) en una lista.\n",
    "\n",
    "Verifique su resultado."
   ]
  },
  {
   "cell_type": "code",
   "execution_count": 9,
   "metadata": {},
   "outputs": [
    {
     "name": "stdout",
     "output_type": "stream",
     "text": [
      "['Hola', 'Adios', [1, 2, 3], 5]\n"
     ]
    },
    {
     "data": {
      "text/plain": [
       "list"
      ]
     },
     "execution_count": 9,
     "metadata": {},
     "output_type": "execute_result"
    }
   ],
   "source": [
    "lista_1[2] = list(lista_1[2])\n",
    "print(lista_1)\n",
    "type(lista_1[2])"
   ]
  },
  {
   "cell_type": "markdown",
   "metadata": {},
   "source": [
    "## Ejercicio 3\n",
    "\n",
    "Modifique el contenido de la variable **lista_1** cambiando la palabra 'Hola' por la palabra 'Bola'.\n",
    "\n",
    "Piense en dos formas de realizar lo anterior."
   ]
  },
  {
   "cell_type": "code",
   "execution_count": 20,
   "metadata": {},
   "outputs": [
    {
     "data": {
      "text/plain": [
       "['Bola', 'Adios', (1, 2, 3), 5]"
      ]
     },
     "execution_count": 20,
     "metadata": {},
     "output_type": "execute_result"
    }
   ],
   "source": [
    "lista_1\n",
    "#Método 1\n",
    "lista_1[0] = 'Bola'\n",
    "\n",
    "\n",
    "#Método 2\n",
    "lista_1[0] = lista_1[0].replace('H', 'B')\n",
    "lista_1"
   ]
  },
  {
   "cell_type": "markdown",
   "metadata": {},
   "source": [
    "## Ejercicio 4\n",
    "\n",
    "En la variable **texto** se tiene un fragmento de un archivo separado por comas (csv).\n",
    "\n",
    "Piense en una forma de obtener el precio promedio del día.\n",
    "\n",
    "Imprima su resultado redondeando a dos decimales.\n"
   ]
  },
  {
   "cell_type": "code",
   "execution_count": 34,
   "metadata": {},
   "outputs": [
    {
     "name": "stdout",
     "output_type": "stream",
     "text": [
      "10.425\n"
     ]
    }
   ],
   "source": [
    "texto = '''\n",
    "Fecha,Precio_Apertura,Precio_Máximo,Precio_Mínimo,Precio_Cierre\n",
    "14-Nov,10.50,11.00,10.00,10.20'''\n",
    "texto\n",
    "\n",
    "lista_split = texto.split(sep = ',')\n",
    "lista_split\n",
    "precios = lista_split[-4:]\n",
    "precios\n",
    "suma = float(precios[0]) + float(precios[1]) + float(precios[2]) \\\n",
    "+ float(precios[3])\n",
    "suma\n",
    "promedio = suma / len(precios)\n",
    "print(promedio)"
   ]
  },
  {
   "cell_type": "markdown",
   "metadata": {},
   "source": [
    "## Ejercicio 5\n",
    "En algunos países, es común utilizar el punto decimal (.) como separador de miles y la coma (,) como separador de decimales.\n",
    "\n",
    "Desafortunadamente, en python no es posible convertir en números las cadenas que tienen este formato.\n",
    "\n",
    "En la variable **s** se tiene una cadena que cumple lo anterior. Piense en una forma de modificar **s** de tal forma que pueda hacer un *cast* a tipo flotante"
   ]
  },
  {
   "cell_type": "code",
   "execution_count": 40,
   "metadata": {},
   "outputs": [
    {
     "data": {
      "text/plain": [
       "42000.5"
      ]
     },
     "execution_count": 40,
     "metadata": {},
     "output_type": "execute_result"
    }
   ],
   "source": [
    "s = '42.000,50'\n",
    "s = s.replace('.','')\n",
    "s = s.replace(',','.')\n",
    "s\n",
    "float(s)"
   ]
  },
  {
   "cell_type": "markdown",
   "metadata": {},
   "source": [
    "## Ejercicio 6\n",
    "\n",
    "Escriba un programa que pida el nombre y la edad del usuario. Posteriormente, deberá imprimir el nombre del usuario repetido el mismo número de su edad; cada repetición del nombre en una nueva línea. Por ejemplo, para un usuario \"David\" con 5 años de edad, el programa deberá mostrar lo siguiente:\n",
    "\n",
    "David\n",
    "\n",
    "David\n",
    "\n",
    "David\n",
    "\n",
    "David\n",
    "\n",
    "David"
   ]
  },
  {
   "cell_type": "code",
   "execution_count": 47,
   "metadata": {},
   "outputs": [
    {
     "name": "stdout",
     "output_type": "stream",
     "text": [
      "Dame tu nombre David\n",
      "Dame tu edad 30\n",
      "David\n",
      "\n",
      "David\n",
      "\n",
      "David\n",
      "\n",
      "David\n",
      "\n",
      "David\n",
      "\n",
      "David\n",
      "\n",
      "David\n",
      "\n",
      "David\n",
      "\n",
      "David\n",
      "\n",
      "David\n",
      "\n",
      "David\n",
      "\n",
      "David\n",
      "\n",
      "David\n",
      "\n",
      "David\n",
      "\n",
      "David\n",
      "\n",
      "David\n",
      "\n",
      "David\n",
      "\n",
      "David\n",
      "\n",
      "David\n",
      "\n",
      "David\n",
      "\n",
      "David\n",
      "\n",
      "David\n",
      "\n",
      "David\n",
      "\n",
      "David\n",
      "\n",
      "David\n",
      "\n",
      "David\n",
      "\n",
      "David\n",
      "\n",
      "David\n",
      "\n",
      "David\n",
      "\n",
      "David\n",
      "\n",
      "\n"
     ]
    }
   ],
   "source": [
    "nombre = input('Dame tu nombre ')\n",
    "nombre = nombre + '\\n\\n'\n",
    "edad = input('Dame tu edad ')\n",
    "edad = int(edad)\n",
    "print(nombre*edad)"
   ]
  },
  {
   "cell_type": "code",
   "execution_count": null,
   "metadata": {},
   "outputs": [],
   "source": []
  }
 ],
 "metadata": {
  "kernelspec": {
   "display_name": "Python 3",
   "language": "python",
   "name": "python3"
  },
  "language_info": {
   "codemirror_mode": {
    "name": "ipython",
    "version": 3
   },
   "file_extension": ".py",
   "mimetype": "text/x-python",
   "name": "python",
   "nbconvert_exporter": "python",
   "pygments_lexer": "ipython3",
   "version": "3.7.3"
  }
 },
 "nbformat": 4,
 "nbformat_minor": 2
}

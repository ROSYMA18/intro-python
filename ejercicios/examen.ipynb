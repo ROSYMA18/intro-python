{
 "cells": [
  {
   "cell_type": "markdown",
   "metadata": {},
   "source": [
    "1. Define la función `palindromo(palabra)` que verifique si una oración o palabra es un palindromo. La función deberá regresar `True` la oración es palíndromo o `False` de lo contrario. Considera oraciones sin signos de puntuación.\n",
    " \n",
    "```python\n",
    ">>> palindromo(\"Anita lava la tina\")\n",
    "True\n",
    ">>> palindromo(\"A ti no bonita\")\n",
    "True\n",
    ">>> palindromo(\"machine learning\")\n",
    "False\n",
    ">>> palindromo(\"Tu eres\")\n",
    "False\n",
    ">>> palindromo(\"Yo soy\")\n",
    "True\n",
    "```"
   ]
  },
  {
   "cell_type": "code",
   "execution_count": null,
   "metadata": {},
   "outputs": [],
   "source": []
  },
  {
   "cell_type": "markdown",
   "metadata": {},
   "source": [
    "2. Define la función `suma_unos(n_terminos)` para encontrar la suma de la serie `1 + 11 + 111 + 1111 + ... (n_terms) `\n",
    "\n",
    "```python\n",
    ">>> suma_unos(2)\n",
    "12\n",
    ">>> suma_unos(5)\n",
    "12345\n",
    ">>> suma_unos(12)\n",
    "123456790122\n",
    "```"
   ]
  },
  {
   "cell_type": "code",
   "execution_count": null,
   "metadata": {},
   "outputs": [],
   "source": []
  },
  {
   "cell_type": "markdown",
   "metadata": {},
   "source": [
    "3. La desviación estándard muestral para una serie de datos se define como:\n",
    "\n",
    "$$\n",
    "\\text{std(X)} = \\sqrt{\\frac{1}{N-1}\\sum_{n=1}^N(x_i - \\bar x)^2}\n",
    "$$\n",
    "\n",
    "Dónde $\\bar x$ denota el promedio de los valores $\\{x_i\\}_i$, i.e., $\\bar x = \\frac{1}{N}\\sum_{N=1}^N x_n$\n",
    "\n",
    "Por medio de un _list comprehension_ o map, calcula la desviación estándar muestral de la lista `X`. Considera importar la función `sqrt` desde `math`."
   ]
  },
  {
   "cell_type": "code",
   "execution_count": 20,
   "metadata": {},
   "outputs": [],
   "source": [
    "from random import randrange, seed\n",
    "seed(314)\n",
    "\n",
    "X = [randrange(-10, 10) for _ in range(30)]"
   ]
  },
  {
   "cell_type": "code",
   "execution_count": null,
   "metadata": {},
   "outputs": [],
   "source": []
  },
  {
   "cell_type": "markdown",
   "metadata": {},
   "source": [
    "4. Considerando el arreglo `A`, obtén lo siguiente\n",
    "    * La suma de los valores en la diagonal de `A` (`[i, i]`)\n"
   ]
  },
  {
   "cell_type": "code",
   "execution_count": 57,
   "metadata": {},
   "outputs": [],
   "source": [
    "import numpy as np\n",
    "from numpy.random import randint, seed\n",
    "seed(271)\n",
    "A = randint(-30, 30, (5, 5))"
   ]
  },
  {
   "cell_type": "markdown",
   "metadata": {},
   "source": [
    "5. Considerando el arreglo `B`, obtén lo siguiente\n",
    "    * La suma de cada una de las filas de `B` $\\sum_{j}B_{i,j}$\n",
    "    * La suma de cada una de las columnas de `B` $\\sum_{i}B_{i,j}$\n",
    "    * La suma de cada una de las filas, al cuadrado, de `B` $\\sum_{j}B^2_{i,j}$\n",
    "    * El promedio de todos los elementos positivos de `B`"
   ]
  },
  {
   "cell_type": "code",
   "execution_count": 61,
   "metadata": {},
   "outputs": [],
   "source": [
    "import numpy as np\n",
    "from numpy.random import randint, seed\n",
    "seed(271)\n",
    "B = randint(-60, 60, (10, 4))"
   ]
  }
 ],
 "metadata": {
  "kernelspec": {
   "display_name": "Python 3",
   "language": "python",
   "name": "python3"
  },
  "language_info": {
   "codemirror_mode": {
    "name": "ipython",
    "version": 3
   },
   "file_extension": ".py",
   "mimetype": "text/x-python",
   "name": "python",
   "nbconvert_exporter": "python",
   "pygments_lexer": "ipython3",
   "version": "3.7.4"
  }
 },
 "nbformat": 4,
 "nbformat_minor": 2
}
